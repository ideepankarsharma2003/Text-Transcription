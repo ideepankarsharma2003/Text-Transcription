{
  "cells": [
    {
      "cell_type": "markdown",
      "metadata": {
        "id": "RQyROdrfsvk4"
      },
      "source": [
        "# Whisper's transcription plus Pyannote's Diarization \n",
        "\n",
        "Andrej Karpathy [suggested](https://twitter.com/karpathy/status/1574476200801538048?s=20&t=s5IMMXOYjBI6-91dib6w8g) training a classifier on top of  OpenAI [Whisper](https://openai.com/blog/whisper/) model features to identify the speaker, so we can visualize the speaker in the transcript. But, as [pointed out](https://twitter.com/tarantulae/status/1574493613362388992?s=20&t=s5IMMXOYjBI6-91dib6w8g) by Christian Perone, it seems that features from whisper wouldn't be that great for speaker recognition as its main objective is basically to ignore speaker differences.\n",
        "\n",
        "In the following, I use [**`pyannote-audio`**](https://github.com/pyannote/pyannote-audio), a speaker diarization toolkit by Hervé Bredin, to identify the speakers, and then match it with the transcriptions of Whispr. I do it on the first 30 minutes of  Lex's 2nd [interview](https://youtu.be/SGzMElJ11Cc) with Yann LeCun. Check the result [**here**](https://majdoddin.github.io/lexicap.html). \n",
        "\n",
        "It is tricky to match the transcriptions to diarization segemtns, specially when the speaker changes. To resolve it, Sarah Kaiser [suggested](https://github.com/openai/whisper/discussions/264#discussioncomment-3825375) runnnig the pyannote.audio first and  then just running whisper on the split-by-speaker chunks. \n",
        "For sake of performance (and transcription quality?), we attach the audio segements into a single audio file with a silent spacer as a seperator, and run whisper on it. Enjoy it!"
      ]
    },
    {
      "cell_type": "markdown",
      "metadata": {
        "id": "wtljXaTXnowa"
      },
      "source": [
        "# Preparing the audio file"
      ]
    },
    {
      "cell_type": "markdown",
      "metadata": {
        "id": "Ct4adIANpQvX"
      },
      "source": [
        " Installing `yt-dlp` and downloading the [video](https://)."
      ]
    },
    {
      "cell_type": "code",
      "execution_count": 1,
      "metadata": {},
      "outputs": [
        {
          "data": {
            "text/plain": [
              "'/home/ubuntu/Text-Transcription'"
            ]
          },
          "execution_count": 1,
          "metadata": {},
          "output_type": "execute_result"
        }
      ],
      "source": [
        "import os; os.chdir('..')\n",
        "%pwd"
      ]
    },
    {
      "cell_type": "code",
      "execution_count": 2,
      "metadata": {
        "id": "KsedMPN-daEX"
      },
      "outputs": [],
      "source": [
        "# !wget -O - -q  https://github.com/yt-dlp/FFmpeg-Builds/releases/download/latest/ffmpeg-master-latest-linux64-gpl.tar.xz | xz -qdc| tar -x"
      ]
    },
    {
      "cell_type": "code",
      "execution_count": 4,
      "metadata": {
        "colab": {
          "base_uri": "https://localhost:8080/"
        },
        "id": "2VHzpv72dkvV",
        "outputId": "5dc16c9c-e457-4a0b-e9b4-145fc718f7b6"
      },
      "outputs": [
        {
          "name": "stdout",
          "output_type": "stream",
          "text": [
            "[debug] Command-line config: ['-xv', '--ffmpeg-location', 'research/ffmpeg-master-latest-linux64-gpl/bin', '--audio-format', 'wav', '-o', 'audio_inps/3ppodcast.wav', '--', 'https://youtu.be/dDz8IBMYGR4']\n"
          ]
        },
        {
          "name": "stdout",
          "output_type": "stream",
          "text": [
            "[debug] Encodings: locale UTF-8, fs utf-8, pref UTF-8, out utf-8, error utf-8, screen utf-8\n",
            "[debug] yt-dlp version stable@2023.12.30 from yt-dlp/yt-dlp [f10589e34] (pip)\n",
            "[debug] Python 3.10.12 (CPython x86_64 64bit) - Linux-6.2.0-1017-aws-x86_64-with-glibc2.35 (OpenSSL 3.0.2 15 Mar 2022, glibc 2.35)\n",
            "[debug] exe versions: ffmpeg N-113328-g34a47b97de-20240115 (setts), ffprobe N-113328-g34a47b97de-20240115\n",
            "[debug] Optional libraries: Cryptodome-3.20.0, brotli-1.1.0, certifi-2023.11.17, mutagen-1.47.0, requests-2.31.0, sqlite3-3.37.2, urllib3-2.1.0, websockets-12.0\n",
            "[debug] Proxy map: {}\n",
            "[debug] Request Handlers: urllib, requests, websockets\n",
            "[debug] Loaded 1798 extractors\n",
            "[youtube] Extracting URL: https://youtu.be/dDz8IBMYGR4\n",
            "[youtube] dDz8IBMYGR4: Downloading webpage\n",
            "[youtube] dDz8IBMYGR4: Downloading ios player API JSON\n",
            "[youtube] dDz8IBMYGR4: Downloading android player API JSON\n",
            "[youtube] dDz8IBMYGR4: Downloading m3u8 information\n",
            "[debug] Sort order given by extractor: quality, res, fps, hdr:12, source, vcodec:vp9.2, channels, acodec, lang, proto\n",
            "[debug] Formats sorted by: hasvid, ie_pref, quality, res, fps, hdr:12(7), source, vcodec:vp9.2(10), channels, acodec, lang, proto, size, br, asr, vext, aext, hasaud, id\n",
            "[info] dDz8IBMYGR4: Downloading 1 format(s): 251\n",
            "[debug] Invoking http downloader on \"https://rr1---sn-p5qlsnrr.googlevideo.com/videoplayback?expire=1705424592&ei=cGKmZd2EAZCV_9EP7pGJ-A8&ip=3.234.240.247&id=o-AJ8BoYIcX2GDnuNY3G1mqceN1Tdt34Z_1I6VZRV5RGB6&itag=251&source=youtube&requiressl=yes&xpc=EgVo2aDSNQ%3D%3D&mh=ND&mm=31%2C26&mn=sn-p5qlsnrr%2Csn-vgqskn6d&ms=au%2Conr&mv=m&mvi=1&pl=12&initcwndbps=1375000&spc=UWF9f6NKJdN2UceKcif-U1uSuXisf9w4imgn&vprv=1&svpuc=1&mime=audio%2Fwebm&gir=yes&clen=34446066&dur=2262.261&lmt=1705166405776518&mt=1705402610&fvip=3&keepalive=yes&fexp=24007246&c=ANDROID&txp=5532434&sparams=expire%2Cei%2Cip%2Cid%2Citag%2Csource%2Crequiressl%2Cxpc%2Cspc%2Cvprv%2Csvpuc%2Cmime%2Cgir%2Cclen%2Cdur%2Clmt&sig=AJfQdSswRQIgaJb4bVmY3-MgRaDDHOhpbtReis0f8pmf9Xk22e_RJuICIQC_C-ok1xZu-scOeHfsCfyWtaHRtgG59oDfllruY2Kz5Q%3D%3D&lsparams=mh%2Cmm%2Cmn%2Cms%2Cmv%2Cmvi%2Cpl%2Cinitcwndbps&lsig=AAO5W4owRQIhAILYCKOaRr9WofOxJa_Ig72XZs4Hi-J4Qu5TbiL6_YJEAiAVmPccEux4hvTKWmcBCqYv3k0a3m8j7SahYtCJD3B_IA%3D%3D\"\n",
            "[download] audio_inps/3ppodcast.webm has already been downloaded\n",
            "\u001b[K[download] 100% of   32.85MiB\n",
            "[debug] ffmpeg command line: research/ffmpeg-master-latest-linux64-gpl/bin/ffprobe -show_streams file:audio_inps/3ppodcast.webm\n",
            "[ExtractAudio] Destination: audio_inps/3ppodcast.wav\n",
            "[debug] ffmpeg command line: research/ffmpeg-master-latest-linux64-gpl/bin/ffmpeg -y -loglevel repeat+info -i file:audio_inps/3ppodcast.webm -vn -movflags +faststart file:audio_inps/3ppodcast.wav\n",
            "Deleting original file audio_inps/3ppodcast.webm (pass -k to keep)\n"
          ]
        }
      ],
      "source": [
        "# !yt-dlp -xv --ffmpeg-location research/ffmpeg-master-latest-linux64-gpl/bin --audio-format wav  -o audio_inps/3ppodcast.wav -- https://youtu.be/dDz8IBMYGR4"
      ]
    },
    {
      "cell_type": "markdown",
      "metadata": {
        "id": "Gzp4EVzWpd5I"
      },
      "source": [
        "\n",
        "Cutting the first 20 minutes of the video for further process.\n"
      ]
    },
    {
      "cell_type": "code",
      "execution_count": 4,
      "metadata": {
        "colab": {
          "base_uri": "https://localhost:8080/"
        },
        "id": "ZqznOE7Kw725",
        "outputId": "73877474-b03c-43cf-825b-2cea28ff0c3f"
      },
      "outputs": [],
      "source": [
        "# !pip install pydub"
      ]
    },
    {
      "cell_type": "code",
      "execution_count": 20,
      "metadata": {
        "colab": {
          "base_uri": "https://localhost:8080/"
        },
        "id": "LlB5gZnswvL1",
        "outputId": "085f2142-68da-4a37-b5e1-b24988619276"
      },
      "outputs": [
        {
          "data": {
            "text/plain": [
              "<_io.BufferedRandom name='audio_inps/3ppodcast1.wav'>"
            ]
          },
          "execution_count": 20,
          "metadata": {},
          "output_type": "execute_result"
        }
      ],
      "source": [
        "from pydub import AudioSegment\n",
        "\n",
        "t1 = 0 * 1000 #Works in milliseconds\n",
        "# t2 = 20 * 60 * 1000\n",
        "t2 = 20* 60 * 1000 # 20 min\n",
        "\n",
        "newAudio = AudioSegment.from_wav(\"audio_inps/3ppodcast.wav\")\n",
        "a = newAudio[t1:t2]\n",
        "a.export(\"audio_inps/3ppodcast1.wav\", format=\"wav\") \n"
      ]
    },
    {
      "cell_type": "markdown",
      "metadata": {
        "id": "q7qMLTISFE6M"
      },
      "source": [
        "`pyannote.audio` seems to miss the first 0.5 seconds of the audio, and, therefore, we prepend a spcacer."
      ]
    },
    {
      "cell_type": "code",
      "execution_count": 21,
      "metadata": {
        "colab": {
          "base_uri": "https://localhost:8080/"
        },
        "id": "MaRDsBV1CWi8",
        "outputId": "e8b7eb9d-0908-4c87-f969-bb780e7e1d19"
      },
      "outputs": [
        {
          "data": {
            "text/plain": [
              "<_io.BufferedRandom name='audio_inps/3ppodcast1_audio.wav'>"
            ]
          },
          "execution_count": 21,
          "metadata": {},
          "output_type": "execute_result"
        }
      ],
      "source": [
        "audio = AudioSegment.from_wav(\"audio_inps/3ppodcast1.wav\")\n",
        "spacermilli = 2000\n",
        "spacer = AudioSegment.silent(duration=spacermilli)\n",
        "audio = spacer.append(audio, crossfade=0)\n",
        "\n",
        "audio.export('audio_inps/3ppodcast1_audio.wav', format='wav')"
      ]
    },
    {
      "cell_type": "markdown",
      "metadata": {
        "id": "mb5eEOKUooju"
      },
      "source": [
        "# Pyannote's Diarization"
      ]
    },
    {
      "cell_type": "markdown",
      "metadata": {
        "id": "nxNf1l8Ye_U9"
      },
      "source": [
        "[`pyannote.audio`](https://github.com/pyannote/pyannote-audio) is an open-source toolkit written in Python for **speaker diarization**. \n",
        "\n",
        "Based on [`PyTorch`](https://pytorch.org) machine learning framework, it provides a set of trainable end-to-end neural building blocks that can be combined and jointly optimized to build speaker diarization pipelines. \n",
        "\n",
        "`pyannote.audio` also comes with pretrained [models](https://huggingface.co/models?other=pyannote-audio-model) and [pipelines](https://huggingface.co/models?other=pyannote-audio-pipeline) covering a wide range of domains for voice activity detection, speaker segmentation, overlapped speech detection, speaker embedding reaching state-of-the-art performance for most of them. "
      ]
    },
    {
      "cell_type": "markdown",
      "metadata": {
        "id": "S8Ak_OQwqd-3"
      },
      "source": [
        "Installing Pyannote and running it on the video to generate the diarizations."
      ]
    },
    {
      "cell_type": "code",
      "execution_count": 7,
      "metadata": {
        "colab": {
          "base_uri": "https://localhost:8080/",
          "height": 1000
        },
        "id": "vJGyKTQJqdzq",
        "outputId": "a910865e-252a-4609-f998-32f6d9d59300"
      },
      "outputs": [],
      "source": [
        "# !pip install   pyannote.audio"
      ]
    },
    {
      "cell_type": "code",
      "execution_count": 5,
      "metadata": {},
      "outputs": [],
      "source": [
        "\n",
        "# import os; os.chdir('..'); print(os.getcwd())\n",
        "from keys import hf_token"
      ]
    },
    {
      "cell_type": "code",
      "execution_count": 6,
      "metadata": {},
      "outputs": [],
      "source": [
        "# print(hf_token)"
      ]
    },
    {
      "cell_type": "code",
      "execution_count": 7,
      "metadata": {},
      "outputs": [
        {
          "name": "stderr",
          "output_type": "stream",
          "text": [
            "torchvision is not available - cannot save figures\n"
          ]
        },
        {
          "data": {
            "text/plain": [
              "<pyannote.audio.pipelines.speaker_diarization.SpeakerDiarization at 0x7f93cf577eb0>"
            ]
          },
          "execution_count": 7,
          "metadata": {},
          "output_type": "execute_result"
        }
      ],
      "source": [
        "# # instantiate the pipeline\n",
        "from pyannote.audio import Pipeline\n",
        "pipeline = Pipeline.from_pretrained(\n",
        "  \"pyannote/speaker-diarization-3.1\",\n",
        "  use_auth_token=hf_token)\n",
        "\n",
        "\n",
        "import torch\n",
        "pipeline.to(torch.device(\"cuda\"))\n",
        "\n",
        "# # run the pipeline on an audio file\n",
        "# diarization = pipeline(\"research/audio.wav\")\n",
        "\n",
        "# # dump the diarization output to disk using RTTM format\n",
        "# with open(\"research/audio.rttm\", \"w\") as rttm:\n",
        "#     diarization.write_rttm(rttm)\n"
      ]
    },
    {
      "cell_type": "code",
      "execution_count": null,
      "metadata": {},
      "outputs": [],
      "source": [
        "DEMO_FILE = {'uri': 'blabal', 'audio': 'audio_inps/3ppodcast1_audio.wav'}\n",
        "dz = pipeline(DEMO_FILE)  \n",
        "\n",
        "with open(\"dummy_outputs/diarization.txt\", \"w\") as text_file:\n",
        "    text_file.write(str(dz))"
      ]
    },
    {
      "cell_type": "code",
      "execution_count": null,
      "metadata": {},
      "outputs": [],
      "source": []
    },
    {
      "cell_type": "code",
      "execution_count": 2,
      "metadata": {
        "colab": {
          "base_uri": "https://localhost:8080/"
        },
        "id": "GHIY2MB3Vz3e",
        "outputId": "11faa3bf-cd94-4753-dffb-1be3c061f8b4"
      },
      "outputs": [],
      "source": [
        "# print(*list(dz.itertracks(yield_label = True))[:10], sep=\"\\n\")"
      ]
    },
    {
      "cell_type": "code",
      "execution_count": 22,
      "metadata": {
        "id": "KPGOaVpOH7pZ"
      },
      "outputs": [],
      "source": [
        "def millisec(timeStr):\n",
        "  spl = timeStr.split(\":\")\n",
        "  s = (int)((int(spl[0]) * 60 * 60 + int(spl[1]) * 60 + float(spl[2]) )* 1000)\n",
        "  return s"
      ]
    },
    {
      "cell_type": "code",
      "execution_count": 23,
      "metadata": {
        "colab": {
          "base_uri": "https://localhost:8080/"
        },
        "id": "5uIUo68M0g7j",
        "outputId": "b957f4eb-9c00-45e9-a738-c5f3a37f6539"
      },
      "outputs": [
        {
          "name": "stdout",
          "output_type": "stream",
          "text": [
            "[2422, 9587, 'SPEAKER_03']\n",
            "[10300, 14816, 'SPEAKER_03']\n",
            "[15258, 23662, 'SPEAKER_03']\n",
            "[23662, 34850, 'SPEAKER_04']\n",
            "[34748, 36039, 'SPEAKER_03']\n",
            "[36039, 69977, 'SPEAKER_04']\n",
            "[37567, 38229, 'SPEAKER_03']\n",
            "[69994, 79298, 'SPEAKER_03']\n",
            "[79740, 86853, 'SPEAKER_03']\n",
            "[87277, 89893, 'SPEAKER_03']\n"
          ]
        }
      ],
      "source": [
        "import re\n",
        "spacermilli = 2000\n",
        "\n",
        "dz = open('dummy_outputs/diarization.txt').read().splitlines()\n",
        "dzList = []\n",
        "for l in dz:\n",
        "  start, end =  tuple(re.findall('[0-9]+:[0-9]+:[0-9]+\\.[0-9]+', string=l))\n",
        "  start = millisec(start) - spacermilli\n",
        "  end = millisec(end)  - spacermilli\n",
        "  # lex = not re.findall('SPEAKER_01', string=l)\n",
        "  lex = re.findall('SPEAKER_[0-9]+[0-9]+', string=l)\n",
        "  dzList.append([start, end, lex[0]])\n",
        "\n",
        "print(*dzList[:10], sep='\\n')"
      ]
    },
    {
      "cell_type": "markdown",
      "metadata": {
        "id": "Wp36eMedRkR0"
      },
      "source": [
        "# Preparing audio file from the diarization"
      ]
    },
    {
      "cell_type": "markdown",
      "metadata": {
        "id": "VEEuVPj6H0J_"
      },
      "source": [
        "Attaching audio segements according to the diarization, with a spacer as the delimiter."
      ]
    },
    {
      "cell_type": "code",
      "execution_count": 24,
      "metadata": {
        "colab": {
          "base_uri": "https://localhost:8080/"
        },
        "id": "pQqlyfY4Ciqh",
        "outputId": "323d3a88-a803-4bdf-b64d-d28d54be6349"
      },
      "outputs": [
        {
          "data": {
            "text/plain": [
              "<_io.BufferedRandom name='dummy_outputs/dz.wav'>"
            ]
          },
          "execution_count": 24,
          "metadata": {},
          "output_type": "execute_result"
        }
      ],
      "source": [
        "from pydub import AudioSegment\n",
        "import re \n",
        "\n",
        "sounds = spacer\n",
        "segments = []\n",
        "\n",
        "dz = open('research/diarization.txt').read().splitlines()\n",
        "for l in dz:\n",
        "  start, end =  tuple(re.findall('[0-9]+:[0-9]+:[0-9]+\\.[0-9]+', string=l))\n",
        "  start = int(millisec(start)) #milliseconds\n",
        "  end = int(millisec(end))  #milliseconds\n",
        "  \n",
        "  segments.append(len(sounds))\n",
        "  sounds = sounds.append(audio[start:end], crossfade=0)\n",
        "  sounds = sounds.append(spacer, crossfade=0)\n",
        "\n",
        "sounds.export(\"dummy_outputs/dz.wav\", format=\"wav\") #Exports to a wav file in the current path."
      ]
    },
    {
      "cell_type": "code",
      "execution_count": 25,
      "metadata": {
        "colab": {
          "base_uri": "https://localhost:8080/"
        },
        "id": "cacmB1ggm51s",
        "outputId": "4ac0d27a-d215-4ba6-8704-7cdfa4416412"
      },
      "outputs": [
        {
          "data": {
            "text/plain": [
              "[2000, 38847, 54209, 94742, 98431, 122034]"
            ]
          },
          "execution_count": 25,
          "metadata": {},
          "output_type": "execute_result"
        }
      ],
      "source": [
        "segments[:8]"
      ]
    },
    {
      "cell_type": "markdown",
      "metadata": {
        "id": "rv2GYZCsLKBJ"
      },
      "source": [
        "Freeing up some memory"
      ]
    },
    {
      "cell_type": "code",
      "execution_count": 26,
      "metadata": {
        "id": "cONumKWUjfus"
      },
      "outputs": [
        {
          "ename": "NameError",
          "evalue": "name 'DEMO_FILE' is not defined",
          "output_type": "error",
          "traceback": [
            "\u001b[0;31m---------------------------------------------------------------------------\u001b[0m",
            "\u001b[0;31mNameError\u001b[0m                                 Traceback (most recent call last)",
            "Cell \u001b[0;32mIn[26], line 1\u001b[0m\n\u001b[0;32m----> 1\u001b[0m \u001b[38;5;28;01mdel\u001b[39;00m   sounds, DEMO_FILE, pipeline, spacer,  audio, dz, a, newAudio\n",
            "\u001b[0;31mNameError\u001b[0m: name 'DEMO_FILE' is not defined"
          ]
        }
      ],
      "source": [
        "del   sounds, DEMO_FILE, pipeline, spacer,  audio, dz, a, newAudio"
      ]
    },
    {
      "cell_type": "markdown",
      "metadata": {
        "id": "AmxtB0k4n8lY"
      },
      "source": [
        "# Whisper's Transcriptions"
      ]
    },
    {
      "cell_type": "markdown",
      "metadata": {
        "id": "swPVuqWaakkH"
      },
      "source": [
        "Installing Open AI whisper.\n",
        "\n",
        "**Important:** There is a version conflict with pyannote.audio resulting in an error (see this RP). Our workaround is to first run Pyannote and then whisper. You can safely ignore the error.\n"
      ]
    },
    {
      "cell_type": "code",
      "execution_count": 18,
      "metadata": {
        "colab": {
          "base_uri": "https://localhost:8080/",
          "height": 927
        },
        "id": "kUd7I__FUZVc",
        "outputId": "fa0da6d8-a6c4-4fd7-9878-300264bb89b7"
      },
      "outputs": [],
      "source": [
        "# !pip install git+https://github.com/openai/whisper.git "
      ]
    },
    {
      "cell_type": "markdown",
      "metadata": {
        "id": "8AleOXL7p7aM"
      },
      "source": [
        "Running Open AI whisper on the prepared audio file. [link text](https://) It writes the transcription into a file."
      ]
    },
    {
      "cell_type": "code",
      "execution_count": 27,
      "metadata": {
        "colab": {
          "base_uri": "https://localhost:8080/"
        },
        "id": "WhzMeNgMVNFc",
        "outputId": "2a2f768d-613f-4d1d-fc7e-698fe13cf30f"
      },
      "outputs": [],
      "source": [
        "!whisper dummy_outputs/dz.wav --language en --model large"
      ]
    },
    {
      "cell_type": "markdown",
      "metadata": {
        "id": "HNauX5fXqODD"
      },
      "source": [
        "Reading the transcription file."
      ]
    },
    {
      "cell_type": "code",
      "execution_count": 21,
      "metadata": {
        "colab": {
          "base_uri": "https://localhost:8080/"
        },
        "id": "aEPsEuS2k4yf",
        "outputId": "6e4b76b7-2113-4370-d080-d6c8c7baf003"
      },
      "outputs": [],
      "source": [
        "# !pip install -U webvtt-py"
      ]
    },
    {
      "cell_type": "code",
      "execution_count": 22,
      "metadata": {},
      "outputs": [
        {
          "name": "stdout",
          "output_type": "stream",
          "text": [
            "__pycache__  dummy_outputs  dz.tsv  keys.py\t      research\n",
            "app.py\t     dz.json\t    dz.txt  lexicap.html      venv\n",
            "audio_inps   dz.srt\t    dz.vtt  requirements.txt\n"
          ]
        }
      ],
      "source": [
        "!ls"
      ]
    },
    {
      "cell_type": "code",
      "execution_count": 24,
      "metadata": {},
      "outputs": [
        {
          "data": {
            "text/plain": [
              "'/home/ubuntu'"
            ]
          },
          "execution_count": 24,
          "metadata": {},
          "output_type": "execute_result"
        }
      ],
      "source": [
        "%pwd"
      ]
    },
    {
      "cell_type": "code",
      "execution_count": 25,
      "metadata": {},
      "outputs": [
        {
          "data": {
            "text/plain": [
              "'/home/ubuntu/Text-Transcription'"
            ]
          },
          "execution_count": 25,
          "metadata": {},
          "output_type": "execute_result"
        }
      ],
      "source": [
        "import os; os.chdir('/home/ubuntu/Text-Transcription')\n",
        "%pwd"
      ]
    },
    {
      "cell_type": "code",
      "execution_count": 26,
      "metadata": {
        "colab": {
          "base_uri": "https://localhost:8080/"
        },
        "id": "uNh_GUpNkyxT",
        "outputId": "7614fc86-b575-42e5-93a1-1629789108cb"
      },
      "outputs": [
        {
          "name": "stdout",
          "output_type": "stream",
          "text": [
            "[0, 6200, 'The following is a conversation with Jan LeCun, his second time on the podcast.']\n",
            "[6200, 14280, 'He is the chief AI scientist at Meta, formerly Facebook, professor at NYU, touring award']\n",
            "[14280, 19220, 'winner, one of the seminal figures in the history of machine learning and artificial']\n",
            "[19220, 25700, 'intelligence, and someone who is brilliant and opinionated in the best kind of way, and']\n",
            "[25700, 27060, 'so is always fun to talk to.']\n",
            "[27060, 29720, 'So, this is a Lex Friedman podcast.']\n",
            "[29900, 32520, 'To support it, please check out our sponsors in the description.']\n",
            "[33220, 36740, \"And now, here's my conversation with Jan LeCun.\"]\n"
          ]
        }
      ],
      "source": [
        "import webvtt\n",
        "\n",
        "# captions = [[(int)(millisec(caption.start)), (int)(millisec(caption.end)),  caption.text] for caption in webvtt.read('dz.wav.vtt')]\n",
        "captions = [[(int)(millisec(caption.start)), (int)(millisec(caption.end)),  caption.text] for caption in webvtt.read('dz.vtt')]\n",
        "print(*captions[:8], sep='\\n')"
      ]
    },
    {
      "cell_type": "markdown",
      "metadata": {
        "id": "u_UyWQMXpB3N"
      },
      "source": [
        "# Matching the Transcriptions and the Diarizations"
      ]
    },
    {
      "cell_type": "markdown",
      "metadata": {
        "id": "KndDYy_xMpMq"
      },
      "source": [
        "Matching each trainscrition line to some diarizations, and generating the HTML file. To get the correct timing, we should take care of the parts in original audio that were in no diarization segment."
      ]
    },
    {
      "cell_type": "code",
      "execution_count": 27,
      "metadata": {
        "id": "vKdx9Hwg630K"
      },
      "outputs": [],
      "source": [
        "preS = '<!DOCTYPE html>\\n<html lang=\"en\">\\n  <head>\\n    <meta charset=\"UTF-8\">\\n    <meta name=\"viewport\" content=\"width=device-width, initial-scale=1.0\">\\n    <meta http-equiv=\"X-UA-Compatible\" content=\"ie=edge\">\\n    <title>Lexicap</title>\\n    <style>\\n        body {\\n            font-family: sans-serif;\\n            font-size: 18px;\\n            color: #111;\\n            padding: 0 0 1em 0;\\n        }\\n        .l {\\n          color: #050;\\n        }\\n        .s {\\n            display: inline-block;\\n        }\\n        .e {\\n            display: inline-block;\\n        }\\n        .t {\\n            display: inline-block;\\n        }\\n        #player {\\n\\t\\tposition: sticky;\\n\\t\\ttop: 20px;\\n\\t\\tfloat: right;\\n\\t}\\n    </style>\\n  </head>\\n  <body>\\n    <h2>Yann LeCun: Dark Matter of Intelligence and Self-Supervised Learning | Lex Fridman Podcast #258</h2>\\n  <div  id=\"player\"></div>\\n    <script>\\n      var tag = document.createElement(\\'script\\');\\n      tag.src = \"https://www.youtube.com/iframe_api\";\\n      var firstScriptTag = document.getElementsByTagName(\\'script\\')[0];\\n      firstScriptTag.parentNode.insertBefore(tag, firstScriptTag);\\n      var player;\\n      function onYouTubeIframeAPIReady() {\\n        player = new YT.Player(\\'player\\', {\\n          height: \\'210\\',\\n          width: \\'340\\',\\n          videoId: \\'SGzMElJ11Cc\\',\\n        });\\n      }\\n      function setCurrentTime(timepoint) {\\n        player.seekTo(timepoint);\\n   player.playVideo();\\n   }\\n    </script><br>\\n'\n",
        "postS = '\\t</body>\\n</html>'"
      ]
    },
    {
      "cell_type": "code",
      "execution_count": 28,
      "metadata": {
        "colab": {
          "base_uri": "https://localhost:8080/"
        },
        "id": "vqO6Nd6YfZYa",
        "outputId": "fce0a6b9-c28f-43f9-afd6-cb55998cd965"
      },
      "outputs": [
        {
          "name": "stdout",
          "output_type": "stream",
          "text": [
            "<!DOCTYPE html>\n",
            "<html lang=\"en\">\n",
            "  <head>\n",
            "    <meta charset=\"UTF-8\">\n",
            "    <meta name=\"viewport\" content=\"width=device-width, initial-scale=1.0\">\n",
            "    <meta http-equiv=\"X-UA-Compatible\" content=\"ie=edge\">\n",
            "    <title>Lexicap</title>\n",
            "    <style>\n",
            "        body {\n",
            "            font-family: sans-serif;\n",
            "            font-size: 18px;\n",
            "            color: #111;\n",
            "            padding: 0 0 1em 0;\n",
            "        }\n",
            "        .l {\n",
            "          color: #050;\n",
            "        }\n",
            "        .s {\n",
            "            display: inline-block;\n",
            "        }\n",
            "        .e {\n",
            "            display: inline-block;\n",
            "        }\n",
            "        .t {\n",
            "            display: inline-block;\n",
            "        }\n",
            "        #player {\n",
            "\t\tposition: sticky;\n",
            "\t\ttop: 20px;\n",
            "\t\tfloat: right;\n",
            "\t}\n",
            "    </style>\n",
            "  </head>\n",
            "  <body>\n",
            "    <h2>Yann LeCun: Dark Matter of Intelligence and Self-Supervised Learning | Lex Fridman Podcast #258</h2>\n",
            "  <div  id=\"player\"></div>\n",
            "    <script>\n",
            "      var tag = document.createElement('script');\n",
            "      tag.src = \"https://www.youtube.com/iframe_api\";\n",
            "      var firstScriptTag = document.getElementsByTagName('script')[0];\n",
            "      firstScriptTag.parentNode.insertBefore(tag, firstScriptTag);\n",
            "      var player;\n",
            "      function onYouTubeIframeAPIReady() {\n",
            "        player = new YT.Player('player', {\n",
            "          height: '210',\n",
            "          width: '340',\n",
            "          videoId: 'SGzMElJ11Cc',\n",
            "        });\n",
            "      }\n",
            "      function setCurrentTime(timepoint) {\n",
            "        player.seekTo(timepoint);\n",
            "   player.playVideo();\n",
            "   }\n",
            "    </script><br>\n",
            "\t\t\t<div class=\"c\">\n",
            "\t\t\t\t<a class=\"l\" href=\"#00:00:0.00\" id=\"00:00:0.00\">link</a> |\n",
            "\t\t\t\t<div class=\"s\"><a href=\"javascript:void(0);\" onclick=setCurrentTime(0)>00:00:0.00</a></div>\n",
            "\t\t\t\t<div class=\"t\">[Lex] The following is a conversation with Jan LeCun, his second time on the podcast.</div>\n",
            "\t\t\t</div>\n",
            "\n",
            "\t\t\t<div class=\"c\">\n",
            "\t\t\t\t<a class=\"l\" href=\"#00:00:4.22\" id=\"00:00:4.22\">link</a> |\n",
            "\t\t\t\t<div class=\"s\"><a href=\"javascript:void(0);\" onclick=setCurrentTime(4)>00:00:4.22</a></div>\n",
            "\t\t\t\t<div class=\"t\">[Lex] He is the chief AI scientist at Meta, formerly Facebook, professor at NYU, touring award</div>\n",
            "\t\t\t</div>\n",
            "\n",
            "\t\t\t<div class=\"c\">\n",
            "\t\t\t\t<a class=\"l\" href=\"#00:00:12.30\" id=\"00:00:12.30\">link</a> |\n",
            "\t\t\t\t<div class=\"s\"><a href=\"javascript:void(0);\" onclick=setCurrentTime(12)>00:00:12.30</a></div>\n",
            "\t\t\t\t<div class=\"t\">[Lex] winner, one of the seminal figures in the history of machine learning and artificial</div>\n",
            "\t\t\t</div>\n",
            "\n",
            "\t\t\t<div class=\"c\">\n",
            "\t\t\t\t<a class=\"l\" href=\"#00:00:17.24\" id=\"00:00:17.24\">link</a> |\n",
            "\t\t\t\t<div class=\"s\"><a href=\"javascript:void(0);\" onclick=setCurrentTime(17)>00:00:17.24</a></div>\n",
            "\t\t\t\t<div class=\"t\">[Lex] intelligence, and someone who is brilliant and opinionated in the best kind of way, and</div>\n",
            "\t\t\t</div>\n",
            "\n",
            "\t\t\t<div class=\"c\">\n",
            "\t\t\t\t<a class=\"l\" href=\"#00:00:23.72\" id=\"00:00:23.72\">link</a> |\n",
            "\t\t\t\t<div class=\"s\"><a href=\"javascript:void(0);\" onclick=setCurrentTime(23)>00:00:23.72</a></div>\n",
            "\t\t\t\t<div class=\"t\">[Lex] so is always fun to talk to.</div>\n",
            "\t\t\t</div>\n",
            "\n",
            "\t\t\t<div class=\"c\">\n",
            "\t\t\t\t<a class=\"l\" href=\"#00:00:25.08\" id=\"00:00:25.08\">link</a> |\n",
            "\t\t\t\t<div class=\"s\"><a href=\"javascript:void(0);\" onclick=setCurrentTime(25)>00:00:25.08</a></div>\n",
            "\t\t\t\t<div class=\"t\">[Lex] So, this is a Lex Friedman podcast.</div>\n",
            "\t\t\t</div>\n",
            "\n",
            "\t\t\t<div class=\"c\">\n",
            "\t\t\t\t<a class=\"l\" href=\"#00:00:27.92\" id=\"00:00:27.92\">link</a> |\n",
            "\t\t\t\t<div class=\"s\"><a href=\"javascript:void(0);\" onclick=setCurrentTime(27)>00:00:27.92</a></div>\n",
            "\t\t\t\t<div class=\"t\">[Lex] To support it, please check out our sponsors in the description.</div>\n",
            "\t\t\t</div>\n",
            "\n",
            "\t\t\t<div class=\"c\">\n",
            "\t\t\t\t<a class=\"l\" href=\"#00:00:31.24\" id=\"00:00:31.24\">link</a> |\n",
            "\t\t\t\t<div class=\"s\"><a href=\"javascript:void(0);\" onclick=setCurrentTime(31)>00:00:31.24</a></div>\n",
            "\t\t\t\t<div class=\"t\">[Lex] And now, here's my conversation with Jan LeCun.</div>\n",
            "\t\t\t</div>\n",
            "\n",
            "\t\t\t<div class=\"c\">\n",
            "\t\t\t\t<a class=\"l\" href=\"#00:00:35.73\" id=\"00:00:35.73\">link</a> |\n",
            "\t\t\t\t<div class=\"s\"><a href=\"javascript:void(0);\" onclick=setCurrentTime(35)>00:00:35.73</a></div>\n",
            "\t\t\t\t<div class=\"t\">[Lex] You co-wrote the article, Self-Supervised Learning, The Dark Matter of Intelligence.</div>\n",
            "\t\t\t</div>\n",
            "\n",
            "\t\t\t<div class=\"c\">\n",
            "\t\t\t\t<a class=\"l\" href=\"#00:00:40.89\" id=\"00:00:40.89\">link</a> |\n",
            "\t\t\t\t<div class=\"s\"><a href=\"javascript:void(0);\" onclick=setCurrentTime(40)>00:00:40.89</a></div>\n",
            "\t\t\t\t<div class=\"t\">[Lex] Great title, by the way, with Ishan Mizra.</div>\n",
            "\t\t\t</div>\n",
            "\n",
            "\t\t\t<div class=\"c\">\n",
            "\t\t\t\t<a class=\"l\" href=\"#00:00:43.53\" id=\"00:00:43.53\">link</a> |\n",
            "\t\t\t\t<div class=\"s\"><a href=\"javascript:void(0);\" onclick=setCurrentTime(43)>00:00:43.53</a></div>\n",
            "\t\t\t\t<div class=\"t\">[Lex] So let me ask, what is self-supervised learning, and why is it the dark matter of intelligence?</div>\n",
            "\t\t\t</div>\n",
            "\n",
            "\t\t\t<div class=\"c\">\n",
            "\t\t\t\t<a class=\"l\" href=\"#00:00:49.56\" id=\"00:00:49.56\">link</a> |\n",
            "\t\t\t\t<div class=\"s\"><a href=\"javascript:void(0);\" onclick=setCurrentTime(49)>00:00:49.56</a></div>\n",
            "\t\t\t\t<div class=\"t\">[Yann] I'll start by the dark matter part.</div>\n",
            "\t\t\t</div>\n",
            "\n",
            "\t\t\t<div class=\"c\">\n",
            "\t\t\t\t<a class=\"l\" href=\"#00:00:52.72\" id=\"00:00:52.72\">link</a> |\n",
            "\t\t\t\t<div class=\"s\"><a href=\"javascript:void(0);\" onclick=setCurrentTime(52)>00:00:52.72</a></div>\n",
            "\t\t\t\t<div class=\"t\">[Yann] There is obviously a kind of learning that humans and animals are doing that we currently</div>\n",
            "\t\t\t</div>\n",
            "\n",
            "\t\t\t<div class=\"c\">\n",
            "\t\t\t\t<a class=\"l\" href=\"#00:01:0.98\" id=\"00:01:0.98\">link</a> |\n",
            "\t\t\t\t<div class=\"s\"><a href=\"javascript:void(0);\" onclick=setCurrentTime(60)>00:01:0.98</a></div>\n",
            "\t\t\t\t<div class=\"t\">[Yann] are not reproducing properly with machines, with AI, right?</div>\n",
            "\t\t\t</div>\n",
            "\n",
            "\t\t\t<div class=\"c\">\n",
            "\t\t\t\t<a class=\"l\" href=\"#00:01:4.66\" id=\"00:01:4.66\">link</a> |\n",
            "\t\t\t\t<div class=\"s\"><a href=\"javascript:void(0);\" onclick=setCurrentTime(64)>00:01:4.66</a></div>\n",
            "\t\t\t\t<div class=\"t\">[Yann] So the most popular approaches to machine learning today are, or paradigms, I should</div>\n",
            "\t\t\t</div>\n",
            "\n",
            "\t\t\t<div class=\"c\">\n",
            "\t\t\t\t<a class=\"l\" href=\"#00:01:9.32\" id=\"00:01:9.32\">link</a> |\n",
            "\t\t\t\t<div class=\"s\"><a href=\"javascript:void(0);\" onclick=setCurrentTime(69)>00:01:9.32</a></div>\n",
            "\t\t\t\t<div class=\"t\">[Yann] say, are supervised learning and reinforcement learning.</div>\n",
            "\t\t\t</div>\n",
            "\n",
            "\t\t\t<div class=\"c\">\n",
            "\t\t\t\t<a class=\"l\" href=\"#00:01:12.64\" id=\"00:01:12.64\">link</a> |\n",
            "\t\t\t\t<div class=\"s\"><a href=\"javascript:void(0);\" onclick=setCurrentTime(72)>00:01:12.64</a></div>\n",
            "\t\t\t\t<div class=\"t\">[Yann] And they are extremely inefficient.</div>\n",
            "\t\t\t</div>\n",
            "\n",
            "\t\t\t<div class=\"c\">\n",
            "\t\t\t\t<a class=\"l\" href=\"#00:01:15.26\" id=\"00:01:15.26\">link</a> |\n",
            "\t\t\t\t<div class=\"s\"><a href=\"javascript:void(0);\" onclick=setCurrentTime(75)>00:01:15.26</a></div>\n",
            "\t\t\t\t<div class=\"t\">[Yann] Supervised learning requires many samples for learning anything, and reinforcement learning</div>\n",
            "\t\t\t</div>\n",
            "\n",
            "\t\t\t<div class=\"c\">\n",
            "\t\t\t\t<a class=\"l\" href=\"#00:01:21.18\" id=\"00:01:21.18\">link</a> |\n",
            "\t\t\t\t<div class=\"s\"><a href=\"javascript:void(0);\" onclick=setCurrentTime(81)>00:01:21.18</a></div>\n",
            "\t\t\t\t<div class=\"t\">[Yann] requires a ridiculously large amount of time.</div>\n",
            "\t\t\t</div>\n",
            "\n",
            "\t\t\t<div class=\"c\">\n",
            "\t\t\t\t<a class=\"l\" href=\"#00:01:22.72\" id=\"00:01:22.72\">link</a> |\n",
            "\t\t\t\t<div class=\"s\"><a href=\"javascript:void(0);\" onclick=setCurrentTime(82)>00:01:22.72</a></div>\n",
            "\t\t\t\t<div class=\"t\">[Yann] There's a large number of trial and errors for a system to learn anything.</div>\n",
            "\t\t\t</div>\n",
            "\n",
            "\t\t\t<div class=\"c\">\n",
            "\t\t\t\t<a class=\"l\" href=\"#00:01:28.94\" id=\"00:01:28.94\">link</a> |\n",
            "\t\t\t\t<div class=\"s\"><a href=\"javascript:void(0);\" onclick=setCurrentTime(88)>00:01:28.94</a></div>\n",
            "\t\t\t\t<div class=\"t\">[Yann] And that's why we don't have self-driving cars.</div>\n",
            "\t\t\t</div>\n",
            "\n",
            "\t\t\t<div class=\"c\">\n",
            "\t\t\t\t<a class=\"l\" href=\"#00:01:32.70\" id=\"00:01:32.70\">link</a> |\n",
            "\t\t\t\t<div class=\"s\"><a href=\"javascript:void(0);\" onclick=setCurrentTime(92)>00:01:32.70</a></div>\n",
            "\t\t\t\t<div class=\"t\">[Lex] That's a big leap from one to the other.</div>\n",
            "\t\t\t</div>\n",
            "\n",
            "\t\t\t<div class=\"c\">\n",
            "\t\t\t\t<a class=\"l\" href=\"#00:01:34.90\" id=\"00:01:34.90\">link</a> |\n",
            "\t\t\t\t<div class=\"s\"><a href=\"javascript:void(0);\" onclick=setCurrentTime(94)>00:01:34.90</a></div>\n",
            "\t\t\t\t<div class=\"t\">[Lex] Okay, so to solve difficult problems, you have to have a lot of human annotation for</div>\n",
            "\t\t\t</div>\n",
            "\n",
            "\t\t\t<div class=\"c\">\n",
            "\t\t\t\t<a class=\"l\" href=\"#00:01:42.52\" id=\"00:01:42.52\">link</a> |\n",
            "\t\t\t\t<div class=\"s\"><a href=\"javascript:void(0);\" onclick=setCurrentTime(102)>00:01:42.52</a></div>\n",
            "\t\t\t\t<div class=\"t\">[Lex] supervised learning to work.</div>\n",
            "\t\t\t</div>\n",
            "\n",
            "\t\t\t<div class=\"c\">\n",
            "\t\t\t\t<a class=\"l\" href=\"#00:01:44.10\" id=\"00:01:44.10\">link</a> |\n",
            "\t\t\t\t<div class=\"s\"><a href=\"javascript:void(0);\" onclick=setCurrentTime(104)>00:01:44.10</a></div>\n",
            "\t\t\t\t<div class=\"t\">[Lex] And to solve those difficult problems with reinforcement learning, you have to have some</div>\n",
            "\t\t\t</div>\n",
            "\n",
            "\t\t\t<div class=\"c\">\n",
            "\t\t\t\t<a class=\"l\" href=\"#00:01:48.20\" id=\"00:01:48.20\">link</a> |\n",
            "\t\t\t\t<div class=\"s\"><a href=\"javascript:void(0);\" onclick=setCurrentTime(108)>00:01:48.20</a></div>\n",
            "\t\t\t\t<div class=\"t\">[Lex] way to maybe simulate that problem such that you can do that large-scale.</div>\n",
            "\t\t\t</div>\n",
            "\n",
            "\t\t\t<div class=\"c\">\n",
            "\t\t\t\t<a class=\"l\" href=\"#00:01:51.52\" id=\"00:01:51.52\">link</a> |\n",
            "\t\t\t\t<div class=\"s\"><a href=\"javascript:void(0);\" onclick=setCurrentTime(111)>00:01:51.52</a></div>\n",
            "\t\t\t\t<div class=\"t\">[Lex] Kind of learning that reinforcement learning requires.</div>\n",
            "\t\t\t</div>\n",
            "\n",
            "\t\t\t<div class=\"c\">\n",
            "\t\t\t\t<a class=\"l\" href=\"#00:01:54.50\" id=\"00:01:54.50\">link</a> |\n",
            "\t\t\t\t<div class=\"s\"><a href=\"javascript:void(0);\" onclick=setCurrentTime(114)>00:01:54.50</a></div>\n",
            "\t\t\t\t<div class=\"t\">[Lex] Right.</div>\n",
            "\t\t\t</div>\n",
            "\n",
            "\t\t\t<div class=\"c\">\n",
            "\t\t\t\t<a class=\"l\" href=\"#00:01:52.50\" id=\"00:01:52.50\">link</a> |\n",
            "\t\t\t\t<div class=\"s\"><a href=\"javascript:void(0);\" onclick=setCurrentTime(112)>00:01:52.50</a></div>\n",
            "\t\t\t\t<div class=\"t\">[Yann] Right.</div>\n",
            "\t\t\t</div>\n",
            "\n",
            "\t\t\t<div class=\"c\">\n",
            "\t\t\t\t<a class=\"l\" href=\"#00:01:54.18\" id=\"00:01:54.18\">link</a> |\n",
            "\t\t\t\t<div class=\"s\"><a href=\"javascript:void(0);\" onclick=setCurrentTime(114)>00:01:54.18</a></div>\n",
            "\t\t\t\t<div class=\"t\">[Yann] Right.</div>\n",
            "\t\t\t</div>\n",
            "\n",
            "\t\t\t<div class=\"c\">\n",
            "\t\t\t\t<a class=\"l\" href=\"#00:01:54.78\" id=\"00:01:54.78\">link</a> |\n",
            "\t\t\t\t<div class=\"s\"><a href=\"javascript:void(0);\" onclick=setCurrentTime(114)>00:01:54.78</a></div>\n",
            "\t\t\t\t<div class=\"t\">[Yann] So how is it that, you know, most teenagers can learn to drive a car in about 20</div>\n",
            "\t\t\t</div>\n",
            "\n",
            "\t</body>\n",
            "</html>\n"
          ]
        }
      ],
      "source": [
        "from datetime import timedelta\n",
        "\n",
        "html = list(preS)\n",
        "\n",
        "for i in range(len(segments)):\n",
        "  idx = 0\n",
        "  for idx in range(len(captions)):\n",
        "    if captions[idx][0] >= (segments[i] - spacermilli):\n",
        "      break;\n",
        "  \n",
        "  while (idx < (len(captions))) and ((i == len(segments) - 1) or (captions[idx][1] < segments[i+1])):\n",
        "    c = captions[idx]  \n",
        "    \n",
        "    start = dzList[i][0] + (c[0] -segments[i])\n",
        "\n",
        "    if start < 0: \n",
        "      start = 0\n",
        "    idx += 1\n",
        "\n",
        "    start = start / 1000.0\n",
        "    startStr = '{0:02d}:{1:02d}:{2:02.2f}'.format((int)(start // 3600), \n",
        "                                            (int)(start % 3600 // 60), \n",
        "                                            start % 60)\n",
        "    \n",
        "    html.append('\\t\\t\\t<div class=\"c\">\\n')\n",
        "    html.append(f'\\t\\t\\t\\t<a class=\"l\" href=\"#{startStr}\" id=\"{startStr}\">link</a> |\\n')\n",
        "    html.append(f'\\t\\t\\t\\t<div class=\"s\"><a href=\"javascript:void(0);\" onclick=setCurrentTime({int(start)})>{startStr}</a></div>\\n')\n",
        "    html.append(f'\\t\\t\\t\\t<div class=\"t\">{\"[Yann]\" if dzList[i][2] else \"[Lex]\"} {c[2]}</div>\\n')\n",
        "    html.append('\\t\\t\\t</div>\\n\\n')\n",
        "\n",
        "html.append(postS)\n",
        "s = \"\".join(html)\n",
        "\n",
        "with open(\"lexicap.html\", \"w\") as text_file:\n",
        "    text_file.write(s)\n",
        "print(s)"
      ]
    },
    {
      "cell_type": "code",
      "execution_count": null,
      "metadata": {},
      "outputs": [],
      "source": []
    }
  ],
  "metadata": {
    "accelerator": "GPU",
    "colab": {
      "collapsed_sections": [],
      "provenance": []
    },
    "gpuClass": "standard",
    "kernelspec": {
      "display_name": "Python 3",
      "name": "python3"
    },
    "language_info": {
      "codemirror_mode": {
        "name": "ipython",
        "version": 3
      },
      "file_extension": ".py",
      "mimetype": "text/x-python",
      "name": "python",
      "nbconvert_exporter": "python",
      "pygments_lexer": "ipython3",
      "version": "3.10.12"
    },
    "widgets": {
      "application/vnd.jupyter.widget-state+json": {
        "030169a7a2594b5a8646f327a0566dfe": {
          "model_module": "@jupyter-widgets/base",
          "model_module_version": "1.2.0",
          "model_name": "LayoutModel",
          "state": {
            "_model_module": "@jupyter-widgets/base",
            "_model_module_version": "1.2.0",
            "_model_name": "LayoutModel",
            "_view_count": null,
            "_view_module": "@jupyter-widgets/base",
            "_view_module_version": "1.2.0",
            "_view_name": "LayoutView",
            "align_content": null,
            "align_items": null,
            "align_self": null,
            "border": null,
            "bottom": null,
            "display": null,
            "flex": null,
            "flex_flow": null,
            "grid_area": null,
            "grid_auto_columns": null,
            "grid_auto_flow": null,
            "grid_auto_rows": null,
            "grid_column": null,
            "grid_gap": null,
            "grid_row": null,
            "grid_template_areas": null,
            "grid_template_columns": null,
            "grid_template_rows": null,
            "height": null,
            "justify_content": null,
            "justify_items": null,
            "left": null,
            "margin": null,
            "max_height": null,
            "max_width": null,
            "min_height": null,
            "min_width": null,
            "object_fit": null,
            "object_position": null,
            "order": null,
            "overflow": null,
            "overflow_x": null,
            "overflow_y": null,
            "padding": null,
            "right": null,
            "top": null,
            "visibility": null,
            "width": null
          }
        },
        "0831e94760fa421384e2b33c97532d09": {
          "model_module": "@jupyter-widgets/base",
          "model_module_version": "1.2.0",
          "model_name": "LayoutModel",
          "state": {
            "_model_module": "@jupyter-widgets/base",
            "_model_module_version": "1.2.0",
            "_model_name": "LayoutModel",
            "_view_count": null,
            "_view_module": "@jupyter-widgets/base",
            "_view_module_version": "1.2.0",
            "_view_name": "LayoutView",
            "align_content": null,
            "align_items": null,
            "align_self": null,
            "border": null,
            "bottom": null,
            "display": null,
            "flex": null,
            "flex_flow": null,
            "grid_area": null,
            "grid_auto_columns": null,
            "grid_auto_flow": null,
            "grid_auto_rows": null,
            "grid_column": null,
            "grid_gap": null,
            "grid_row": null,
            "grid_template_areas": null,
            "grid_template_columns": null,
            "grid_template_rows": null,
            "height": null,
            "justify_content": null,
            "justify_items": null,
            "left": null,
            "margin": null,
            "max_height": null,
            "max_width": null,
            "min_height": null,
            "min_width": null,
            "object_fit": null,
            "object_position": null,
            "order": null,
            "overflow": null,
            "overflow_x": null,
            "overflow_y": null,
            "padding": null,
            "right": null,
            "top": null,
            "visibility": null,
            "width": null
          }
        },
        "098d718a941542b99b772068e442e9fa": {
          "model_module": "@jupyter-widgets/controls",
          "model_module_version": "1.5.0",
          "model_name": "ProgressStyleModel",
          "state": {
            "_model_module": "@jupyter-widgets/controls",
            "_model_module_version": "1.5.0",
            "_model_name": "ProgressStyleModel",
            "_view_count": null,
            "_view_module": "@jupyter-widgets/base",
            "_view_module_version": "1.2.0",
            "_view_name": "StyleView",
            "bar_color": null,
            "description_width": ""
          }
        },
        "0b616fa3a46a4502b14f93270fcb1ca7": {
          "model_module": "@jupyter-widgets/controls",
          "model_module_version": "1.5.0",
          "model_name": "HBoxModel",
          "state": {
            "_dom_classes": [],
            "_model_module": "@jupyter-widgets/controls",
            "_model_module_version": "1.5.0",
            "_model_name": "HBoxModel",
            "_view_count": null,
            "_view_module": "@jupyter-widgets/controls",
            "_view_module_version": "1.5.0",
            "_view_name": "HBoxView",
            "box_style": "",
            "children": [
              "IPY_MODEL_fd8fd5f045414ab199d3f37c9397ad54",
              "IPY_MODEL_9652595d01cc478c952a368a1f86940d",
              "IPY_MODEL_3a648dda02c9485e8e975e7a1ad2c27e"
            ],
            "layout": "IPY_MODEL_eb2e878c6f0d413b9e82b93b6057e66f"
          }
        },
        "0c4de4008c2e45e5a31d21cdb954f0f2": {
          "model_module": "@jupyter-widgets/base",
          "model_module_version": "1.2.0",
          "model_name": "LayoutModel",
          "state": {
            "_model_module": "@jupyter-widgets/base",
            "_model_module_version": "1.2.0",
            "_model_name": "LayoutModel",
            "_view_count": null,
            "_view_module": "@jupyter-widgets/base",
            "_view_module_version": "1.2.0",
            "_view_name": "LayoutView",
            "align_content": null,
            "align_items": null,
            "align_self": null,
            "border": null,
            "bottom": null,
            "display": null,
            "flex": null,
            "flex_flow": null,
            "grid_area": null,
            "grid_auto_columns": null,
            "grid_auto_flow": null,
            "grid_auto_rows": null,
            "grid_column": null,
            "grid_gap": null,
            "grid_row": null,
            "grid_template_areas": null,
            "grid_template_columns": null,
            "grid_template_rows": null,
            "height": null,
            "justify_content": null,
            "justify_items": null,
            "left": null,
            "margin": null,
            "max_height": null,
            "max_width": null,
            "min_height": null,
            "min_width": null,
            "object_fit": null,
            "object_position": null,
            "order": null,
            "overflow": null,
            "overflow_x": null,
            "overflow_y": null,
            "padding": null,
            "right": null,
            "top": null,
            "visibility": null,
            "width": null
          }
        },
        "105cf78a882a4cc3bbdaaa2b80217110": {
          "model_module": "@jupyter-widgets/controls",
          "model_module_version": "1.5.0",
          "model_name": "ProgressStyleModel",
          "state": {
            "_model_module": "@jupyter-widgets/controls",
            "_model_module_version": "1.5.0",
            "_model_name": "ProgressStyleModel",
            "_view_count": null,
            "_view_module": "@jupyter-widgets/base",
            "_view_module_version": "1.2.0",
            "_view_name": "StyleView",
            "bar_color": null,
            "description_width": ""
          }
        },
        "135ef8a71e4041ad80129cc5dbc51354": {
          "model_module": "@jupyter-widgets/base",
          "model_module_version": "1.2.0",
          "model_name": "LayoutModel",
          "state": {
            "_model_module": "@jupyter-widgets/base",
            "_model_module_version": "1.2.0",
            "_model_name": "LayoutModel",
            "_view_count": null,
            "_view_module": "@jupyter-widgets/base",
            "_view_module_version": "1.2.0",
            "_view_name": "LayoutView",
            "align_content": null,
            "align_items": null,
            "align_self": null,
            "border": null,
            "bottom": null,
            "display": null,
            "flex": null,
            "flex_flow": null,
            "grid_area": null,
            "grid_auto_columns": null,
            "grid_auto_flow": null,
            "grid_auto_rows": null,
            "grid_column": null,
            "grid_gap": null,
            "grid_row": null,
            "grid_template_areas": null,
            "grid_template_columns": null,
            "grid_template_rows": null,
            "height": null,
            "justify_content": null,
            "justify_items": null,
            "left": null,
            "margin": null,
            "max_height": null,
            "max_width": null,
            "min_height": null,
            "min_width": null,
            "object_fit": null,
            "object_position": null,
            "order": null,
            "overflow": null,
            "overflow_x": null,
            "overflow_y": null,
            "padding": null,
            "right": null,
            "top": null,
            "visibility": null,
            "width": null
          }
        },
        "15e62f4a65104bdea233a96c4dbb6db8": {
          "model_module": "@jupyter-widgets/controls",
          "model_module_version": "1.5.0",
          "model_name": "DescriptionStyleModel",
          "state": {
            "_model_module": "@jupyter-widgets/controls",
            "_model_module_version": "1.5.0",
            "_model_name": "DescriptionStyleModel",
            "_view_count": null,
            "_view_module": "@jupyter-widgets/base",
            "_view_module_version": "1.2.0",
            "_view_name": "StyleView",
            "description_width": ""
          }
        },
        "187e2d909bfc4a41b2502b964a03fcad": {
          "model_module": "@jupyter-widgets/controls",
          "model_module_version": "1.5.0",
          "model_name": "HTMLModel",
          "state": {
            "_dom_classes": [],
            "_model_module": "@jupyter-widgets/controls",
            "_model_module_version": "1.5.0",
            "_model_name": "HTMLModel",
            "_view_count": null,
            "_view_module": "@jupyter-widgets/controls",
            "_view_module_version": "1.5.0",
            "_view_name": "HTMLView",
            "description": "",
            "description_tooltip": null,
            "layout": "IPY_MODEL_b2791832f51f4794acfdbded875bc9b5",
            "placeholder": "​",
            "style": "IPY_MODEL_28c4d707b0764f51ba2d06eeed5dad96",
            "value": " 318/318 [00:00&lt;00:00, 12.0kB/s]"
          }
        },
        "1c72713c82fa4ab89cb8fbe84089828f": {
          "model_module": "@jupyter-widgets/controls",
          "model_module_version": "1.5.0",
          "model_name": "DescriptionStyleModel",
          "state": {
            "_model_module": "@jupyter-widgets/controls",
            "_model_module_version": "1.5.0",
            "_model_name": "DescriptionStyleModel",
            "_view_count": null,
            "_view_module": "@jupyter-widgets/base",
            "_view_module_version": "1.2.0",
            "_view_name": "StyleView",
            "description_width": ""
          }
        },
        "1f7c6499be4846e1bc674761f3b875f2": {
          "model_module": "@jupyter-widgets/controls",
          "model_module_version": "1.5.0",
          "model_name": "HTMLModel",
          "state": {
            "_dom_classes": [],
            "_model_module": "@jupyter-widgets/controls",
            "_model_module_version": "1.5.0",
            "_model_name": "HTMLModel",
            "_view_count": null,
            "_view_module": "@jupyter-widgets/controls",
            "_view_module_version": "1.5.0",
            "_view_name": "HTMLView",
            "description": "",
            "description_tooltip": null,
            "layout": "IPY_MODEL_e4802c94ccaf404180f3760e3b859a3a",
            "placeholder": "​",
            "style": "IPY_MODEL_71d0b4b532e649829bc813d0f09b2c3b",
            "value": "Downloading: 100%"
          }
        },
        "268c730678bb4af6baf7bb4f185ddb1e": {
          "model_module": "@jupyter-widgets/controls",
          "model_module_version": "1.5.0",
          "model_name": "FloatProgressModel",
          "state": {
            "_dom_classes": [],
            "_model_module": "@jupyter-widgets/controls",
            "_model_module_version": "1.5.0",
            "_model_name": "FloatProgressModel",
            "_view_count": null,
            "_view_module": "@jupyter-widgets/controls",
            "_view_module_version": "1.5.0",
            "_view_name": "ProgressView",
            "bar_style": "success",
            "description": "",
            "description_tooltip": null,
            "layout": "IPY_MODEL_5fb9f7acb4c7491a986f6d674f467028",
            "max": 598,
            "min": 0,
            "orientation": "horizontal",
            "style": "IPY_MODEL_40efa9c5b79e40cab21dcdcf98533caa",
            "value": 598
          }
        },
        "28c4d707b0764f51ba2d06eeed5dad96": {
          "model_module": "@jupyter-widgets/controls",
          "model_module_version": "1.5.0",
          "model_name": "DescriptionStyleModel",
          "state": {
            "_model_module": "@jupyter-widgets/controls",
            "_model_module_version": "1.5.0",
            "_model_name": "DescriptionStyleModel",
            "_view_count": null,
            "_view_module": "@jupyter-widgets/base",
            "_view_module_version": "1.2.0",
            "_view_name": "StyleView",
            "description_width": ""
          }
        },
        "28e3b80e86634a32aaef5b67345c217c": {
          "model_module": "@jupyter-widgets/controls",
          "model_module_version": "1.5.0",
          "model_name": "HBoxModel",
          "state": {
            "_dom_classes": [],
            "_model_module": "@jupyter-widgets/controls",
            "_model_module_version": "1.5.0",
            "_model_name": "HBoxModel",
            "_view_count": null,
            "_view_module": "@jupyter-widgets/controls",
            "_view_module_version": "1.5.0",
            "_view_name": "HBoxView",
            "box_style": "",
            "children": [
              "IPY_MODEL_3a1c92eec125401ca3184d713b27f4a5",
              "IPY_MODEL_500472e00812437390d5caf9bc0ee67b",
              "IPY_MODEL_41aa0f5eaddd4907802992b380e85ded"
            ],
            "layout": "IPY_MODEL_030169a7a2594b5a8646f327a0566dfe"
          }
        },
        "28ef8f3ac2e44445ac9e40d140e513d3": {
          "model_module": "@jupyter-widgets/controls",
          "model_module_version": "1.5.0",
          "model_name": "DescriptionStyleModel",
          "state": {
            "_model_module": "@jupyter-widgets/controls",
            "_model_module_version": "1.5.0",
            "_model_name": "DescriptionStyleModel",
            "_view_count": null,
            "_view_module": "@jupyter-widgets/base",
            "_view_module_version": "1.2.0",
            "_view_name": "StyleView",
            "description_width": ""
          }
        },
        "309cc6bf3b1e41b1a558fbdb3745c301": {
          "model_module": "@jupyter-widgets/controls",
          "model_module_version": "1.5.0",
          "model_name": "FloatProgressModel",
          "state": {
            "_dom_classes": [],
            "_model_module": "@jupyter-widgets/controls",
            "_model_module_version": "1.5.0",
            "_model_name": "FloatProgressModel",
            "_view_count": null,
            "_view_module": "@jupyter-widgets/controls",
            "_view_module_version": "1.5.0",
            "_view_name": "ProgressView",
            "bar_style": "success",
            "description": "",
            "description_tooltip": null,
            "layout": "IPY_MODEL_a9a5de2de75643048ba821d73a00d5c7",
            "max": 17719103,
            "min": 0,
            "orientation": "horizontal",
            "style": "IPY_MODEL_51422049fa5846bb9e009b530f0a7526",
            "value": 17719103
          }
        },
        "323bd202a5a540b4b8805b88138468ad": {
          "model_module": "@jupyter-widgets/controls",
          "model_module_version": "1.5.0",
          "model_name": "ProgressStyleModel",
          "state": {
            "_model_module": "@jupyter-widgets/controls",
            "_model_module_version": "1.5.0",
            "_model_name": "ProgressStyleModel",
            "_view_count": null,
            "_view_module": "@jupyter-widgets/base",
            "_view_module_version": "1.2.0",
            "_view_name": "StyleView",
            "bar_color": null,
            "description_width": ""
          }
        },
        "32792ea893a140dab321565df126e461": {
          "model_module": "@jupyter-widgets/base",
          "model_module_version": "1.2.0",
          "model_name": "LayoutModel",
          "state": {
            "_model_module": "@jupyter-widgets/base",
            "_model_module_version": "1.2.0",
            "_model_name": "LayoutModel",
            "_view_count": null,
            "_view_module": "@jupyter-widgets/base",
            "_view_module_version": "1.2.0",
            "_view_name": "LayoutView",
            "align_content": null,
            "align_items": null,
            "align_self": null,
            "border": null,
            "bottom": null,
            "display": null,
            "flex": null,
            "flex_flow": null,
            "grid_area": null,
            "grid_auto_columns": null,
            "grid_auto_flow": null,
            "grid_auto_rows": null,
            "grid_column": null,
            "grid_gap": null,
            "grid_row": null,
            "grid_template_areas": null,
            "grid_template_columns": null,
            "grid_template_rows": null,
            "height": null,
            "justify_content": null,
            "justify_items": null,
            "left": null,
            "margin": null,
            "max_height": null,
            "max_width": null,
            "min_height": null,
            "min_width": null,
            "object_fit": null,
            "object_position": null,
            "order": null,
            "overflow": null,
            "overflow_x": null,
            "overflow_y": null,
            "padding": null,
            "right": null,
            "top": null,
            "visibility": null,
            "width": null
          }
        },
        "327bebaf45eb46b289615c8deb29a69d": {
          "model_module": "@jupyter-widgets/controls",
          "model_module_version": "1.5.0",
          "model_name": "HBoxModel",
          "state": {
            "_dom_classes": [],
            "_model_module": "@jupyter-widgets/controls",
            "_model_module_version": "1.5.0",
            "_model_name": "HBoxModel",
            "_view_count": null,
            "_view_module": "@jupyter-widgets/controls",
            "_view_module_version": "1.5.0",
            "_view_name": "HBoxView",
            "box_style": "",
            "children": [
              "IPY_MODEL_a6919e4b1e2c4510958bf343ef2524a8",
              "IPY_MODEL_309cc6bf3b1e41b1a558fbdb3745c301",
              "IPY_MODEL_ec474373198046d299e09b4823a2766d"
            ],
            "layout": "IPY_MODEL_88186bbd5a1c4425b254d608ca85cd8a"
          }
        },
        "350678a2f548480b9d6acceda5d78949": {
          "model_module": "@jupyter-widgets/controls",
          "model_module_version": "1.5.0",
          "model_name": "HTMLModel",
          "state": {
            "_dom_classes": [],
            "_model_module": "@jupyter-widgets/controls",
            "_model_module_version": "1.5.0",
            "_model_name": "HTMLModel",
            "_view_count": null,
            "_view_module": "@jupyter-widgets/controls",
            "_view_module_version": "1.5.0",
            "_view_name": "HTMLView",
            "description": "",
            "description_tooltip": null,
            "layout": "IPY_MODEL_766c1a1b8c1248e79dfa03ec89dbc4dd",
            "placeholder": "​",
            "style": "IPY_MODEL_15e62f4a65104bdea233a96c4dbb6db8",
            "value": " 598/598 [00:00&lt;00:00, 16.1kB/s]"
          }
        },
        "36c91974947c4bf7aef8585de061a5a7": {
          "model_module": "@jupyter-widgets/controls",
          "model_module_version": "1.5.0",
          "model_name": "HBoxModel",
          "state": {
            "_dom_classes": [],
            "_model_module": "@jupyter-widgets/controls",
            "_model_module_version": "1.5.0",
            "_model_name": "HBoxModel",
            "_view_count": null,
            "_view_module": "@jupyter-widgets/controls",
            "_view_module_version": "1.5.0",
            "_view_name": "HBoxView",
            "box_style": "",
            "children": [
              "IPY_MODEL_a7d1f042f6124c51aa69ac6985e7c83c",
              "IPY_MODEL_3fbcb6d197ab4c44930a2e15e439459b",
              "IPY_MODEL_6b7194d233cd47428f58bf987f9712fe"
            ],
            "layout": "IPY_MODEL_135ef8a71e4041ad80129cc5dbc51354"
          }
        },
        "36ecee3e086a4a34bd6f6fe435b20a6e": {
          "model_module": "@jupyter-widgets/controls",
          "model_module_version": "1.5.0",
          "model_name": "HBoxModel",
          "state": {
            "_dom_classes": [],
            "_model_module": "@jupyter-widgets/controls",
            "_model_module_version": "1.5.0",
            "_model_name": "HBoxModel",
            "_view_count": null,
            "_view_module": "@jupyter-widgets/controls",
            "_view_module_version": "1.5.0",
            "_view_name": "HBoxView",
            "box_style": "",
            "children": [
              "IPY_MODEL_f638d0f51ac548e8a36a0b8858082e29",
              "IPY_MODEL_41359dbbceea458b9137b8cb8fb2e7e1",
              "IPY_MODEL_a9b8f75e82274a4e8cfa1026fe8408de"
            ],
            "layout": "IPY_MODEL_b71b33109b124e30b0004634467e64dc"
          }
        },
        "3a1c92eec125401ca3184d713b27f4a5": {
          "model_module": "@jupyter-widgets/controls",
          "model_module_version": "1.5.0",
          "model_name": "HTMLModel",
          "state": {
            "_dom_classes": [],
            "_model_module": "@jupyter-widgets/controls",
            "_model_module_version": "1.5.0",
            "_model_name": "HTMLModel",
            "_view_count": null,
            "_view_module": "@jupyter-widgets/controls",
            "_view_module_version": "1.5.0",
            "_view_name": "HTMLView",
            "description": "",
            "description_tooltip": null,
            "layout": "IPY_MODEL_55d89d284453466c8013f2a884d55426",
            "placeholder": "​",
            "style": "IPY_MODEL_47506b0858534c6ebc53e8e500ef56b6",
            "value": "Downloading: 100%"
          }
        },
        "3a648dda02c9485e8e975e7a1ad2c27e": {
          "model_module": "@jupyter-widgets/controls",
          "model_module_version": "1.5.0",
          "model_name": "HTMLModel",
          "state": {
            "_dom_classes": [],
            "_model_module": "@jupyter-widgets/controls",
            "_model_module_version": "1.5.0",
            "_model_name": "HTMLModel",
            "_view_count": null,
            "_view_module": "@jupyter-widgets/controls",
            "_view_module_version": "1.5.0",
            "_view_name": "HTMLView",
            "description": "",
            "description_tooltip": null,
            "layout": "IPY_MODEL_4a1e581661b84dc6b9c52c1c6efa006b",
            "placeholder": "​",
            "style": "IPY_MODEL_3d1b76d21f6349ccbeefd795974321f7",
            "value": " 1.92k/1.92k [00:00&lt;00:00, 60.7kB/s]"
          }
        },
        "3d1b76d21f6349ccbeefd795974321f7": {
          "model_module": "@jupyter-widgets/controls",
          "model_module_version": "1.5.0",
          "model_name": "DescriptionStyleModel",
          "state": {
            "_model_module": "@jupyter-widgets/controls",
            "_model_module_version": "1.5.0",
            "_model_name": "DescriptionStyleModel",
            "_view_count": null,
            "_view_module": "@jupyter-widgets/base",
            "_view_module_version": "1.2.0",
            "_view_name": "StyleView",
            "description_width": ""
          }
        },
        "3fbcb6d197ab4c44930a2e15e439459b": {
          "model_module": "@jupyter-widgets/controls",
          "model_module_version": "1.5.0",
          "model_name": "FloatProgressModel",
          "state": {
            "_dom_classes": [],
            "_model_module": "@jupyter-widgets/controls",
            "_model_module_version": "1.5.0",
            "_model_name": "FloatProgressModel",
            "_view_count": null,
            "_view_module": "@jupyter-widgets/controls",
            "_view_module_version": "1.5.0",
            "_view_name": "ProgressView",
            "bar_style": "success",
            "description": "",
            "description_tooltip": null,
            "layout": "IPY_MODEL_e73e393e01f4487d86dfbe5e401b4c09",
            "max": 128619,
            "min": 0,
            "orientation": "horizontal",
            "style": "IPY_MODEL_a93270536a094ed694b825ea38aa36a2",
            "value": 128619
          }
        },
        "40efa9c5b79e40cab21dcdcf98533caa": {
          "model_module": "@jupyter-widgets/controls",
          "model_module_version": "1.5.0",
          "model_name": "ProgressStyleModel",
          "state": {
            "_model_module": "@jupyter-widgets/controls",
            "_model_module_version": "1.5.0",
            "_model_name": "ProgressStyleModel",
            "_view_count": null,
            "_view_module": "@jupyter-widgets/base",
            "_view_module_version": "1.2.0",
            "_view_name": "StyleView",
            "bar_color": null,
            "description_width": ""
          }
        },
        "41359dbbceea458b9137b8cb8fb2e7e1": {
          "model_module": "@jupyter-widgets/controls",
          "model_module_version": "1.5.0",
          "model_name": "FloatProgressModel",
          "state": {
            "_dom_classes": [],
            "_model_module": "@jupyter-widgets/controls",
            "_model_module_version": "1.5.0",
            "_model_name": "FloatProgressModel",
            "_view_count": null,
            "_view_module": "@jupyter-widgets/controls",
            "_view_module_version": "1.5.0",
            "_view_name": "ProgressView",
            "bar_style": "success",
            "description": "",
            "description_tooltip": null,
            "layout": "IPY_MODEL_5d5fa4a478844c798c91a274361cda2b",
            "max": 1921,
            "min": 0,
            "orientation": "horizontal",
            "style": "IPY_MODEL_323bd202a5a540b4b8805b88138468ad",
            "value": 1921
          }
        },
        "41aa0f5eaddd4907802992b380e85ded": {
          "model_module": "@jupyter-widgets/controls",
          "model_module_version": "1.5.0",
          "model_name": "HTMLModel",
          "state": {
            "_dom_classes": [],
            "_model_module": "@jupyter-widgets/controls",
            "_model_module_version": "1.5.0",
            "_model_name": "HTMLModel",
            "_view_count": null,
            "_view_module": "@jupyter-widgets/controls",
            "_view_module_version": "1.5.0",
            "_view_name": "HTMLView",
            "description": "",
            "description_tooltip": null,
            "layout": "IPY_MODEL_b8cdfacd7bee4c398fc513ed2a3311e3",
            "placeholder": "​",
            "style": "IPY_MODEL_85c433e956794588b166c9ed6fa68c20",
            "value": " 5.53M/5.53M [00:00&lt;00:00, 14.8MB/s]"
          }
        },
        "458d4d31cd87402c97c4038553c06574": {
          "model_module": "@jupyter-widgets/base",
          "model_module_version": "1.2.0",
          "model_name": "LayoutModel",
          "state": {
            "_model_module": "@jupyter-widgets/base",
            "_model_module_version": "1.2.0",
            "_model_name": "LayoutModel",
            "_view_count": null,
            "_view_module": "@jupyter-widgets/base",
            "_view_module_version": "1.2.0",
            "_view_name": "LayoutView",
            "align_content": null,
            "align_items": null,
            "align_self": null,
            "border": null,
            "bottom": null,
            "display": null,
            "flex": null,
            "flex_flow": null,
            "grid_area": null,
            "grid_auto_columns": null,
            "grid_auto_flow": null,
            "grid_auto_rows": null,
            "grid_column": null,
            "grid_gap": null,
            "grid_row": null,
            "grid_template_areas": null,
            "grid_template_columns": null,
            "grid_template_rows": null,
            "height": null,
            "justify_content": null,
            "justify_items": null,
            "left": null,
            "margin": null,
            "max_height": null,
            "max_width": null,
            "min_height": null,
            "min_width": null,
            "object_fit": null,
            "object_position": null,
            "order": null,
            "overflow": null,
            "overflow_x": null,
            "overflow_y": null,
            "padding": null,
            "right": null,
            "top": null,
            "visibility": null,
            "width": null
          }
        },
        "47506b0858534c6ebc53e8e500ef56b6": {
          "model_module": "@jupyter-widgets/controls",
          "model_module_version": "1.5.0",
          "model_name": "DescriptionStyleModel",
          "state": {
            "_model_module": "@jupyter-widgets/controls",
            "_model_module_version": "1.5.0",
            "_model_name": "DescriptionStyleModel",
            "_view_count": null,
            "_view_module": "@jupyter-widgets/base",
            "_view_module_version": "1.2.0",
            "_view_name": "StyleView",
            "description_width": ""
          }
        },
        "4a1e581661b84dc6b9c52c1c6efa006b": {
          "model_module": "@jupyter-widgets/base",
          "model_module_version": "1.2.0",
          "model_name": "LayoutModel",
          "state": {
            "_model_module": "@jupyter-widgets/base",
            "_model_module_version": "1.2.0",
            "_model_name": "LayoutModel",
            "_view_count": null,
            "_view_module": "@jupyter-widgets/base",
            "_view_module_version": "1.2.0",
            "_view_name": "LayoutView",
            "align_content": null,
            "align_items": null,
            "align_self": null,
            "border": null,
            "bottom": null,
            "display": null,
            "flex": null,
            "flex_flow": null,
            "grid_area": null,
            "grid_auto_columns": null,
            "grid_auto_flow": null,
            "grid_auto_rows": null,
            "grid_column": null,
            "grid_gap": null,
            "grid_row": null,
            "grid_template_areas": null,
            "grid_template_columns": null,
            "grid_template_rows": null,
            "height": null,
            "justify_content": null,
            "justify_items": null,
            "left": null,
            "margin": null,
            "max_height": null,
            "max_width": null,
            "min_height": null,
            "min_width": null,
            "object_fit": null,
            "object_position": null,
            "order": null,
            "overflow": null,
            "overflow_x": null,
            "overflow_y": null,
            "padding": null,
            "right": null,
            "top": null,
            "visibility": null,
            "width": null
          }
        },
        "500472e00812437390d5caf9bc0ee67b": {
          "model_module": "@jupyter-widgets/controls",
          "model_module_version": "1.5.0",
          "model_name": "FloatProgressModel",
          "state": {
            "_dom_classes": [],
            "_model_module": "@jupyter-widgets/controls",
            "_model_module_version": "1.5.0",
            "_model_name": "FloatProgressModel",
            "_view_count": null,
            "_view_module": "@jupyter-widgets/controls",
            "_view_module_version": "1.5.0",
            "_view_name": "ProgressView",
            "bar_style": "success",
            "description": "",
            "description_tooltip": null,
            "layout": "IPY_MODEL_feaf363bb8c548fcae1cd13fd1074581",
            "max": 5534328,
            "min": 0,
            "orientation": "horizontal",
            "style": "IPY_MODEL_fc80e8542e34422b86874eee0b20b3f8",
            "value": 5534328
          }
        },
        "51422049fa5846bb9e009b530f0a7526": {
          "model_module": "@jupyter-widgets/controls",
          "model_module_version": "1.5.0",
          "model_name": "ProgressStyleModel",
          "state": {
            "_model_module": "@jupyter-widgets/controls",
            "_model_module_version": "1.5.0",
            "_model_name": "ProgressStyleModel",
            "_view_count": null,
            "_view_module": "@jupyter-widgets/base",
            "_view_module_version": "1.2.0",
            "_view_name": "StyleView",
            "bar_color": null,
            "description_width": ""
          }
        },
        "546a16efa53e462f88890ebe3977a3bc": {
          "model_module": "@jupyter-widgets/controls",
          "model_module_version": "1.5.0",
          "model_name": "HBoxModel",
          "state": {
            "_dom_classes": [],
            "_model_module": "@jupyter-widgets/controls",
            "_model_module_version": "1.5.0",
            "_model_name": "HBoxModel",
            "_view_count": null,
            "_view_module": "@jupyter-widgets/controls",
            "_view_module_version": "1.5.0",
            "_view_name": "HBoxView",
            "box_style": "",
            "children": [
              "IPY_MODEL_1f7c6499be4846e1bc674761f3b875f2",
              "IPY_MODEL_268c730678bb4af6baf7bb4f185ddb1e",
              "IPY_MODEL_350678a2f548480b9d6acceda5d78949"
            ],
            "layout": "IPY_MODEL_8f9cafa27efc43c4bb3f566f87df523c"
          }
        },
        "55d89d284453466c8013f2a884d55426": {
          "model_module": "@jupyter-widgets/base",
          "model_module_version": "1.2.0",
          "model_name": "LayoutModel",
          "state": {
            "_model_module": "@jupyter-widgets/base",
            "_model_module_version": "1.2.0",
            "_model_name": "LayoutModel",
            "_view_count": null,
            "_view_module": "@jupyter-widgets/base",
            "_view_module_version": "1.2.0",
            "_view_name": "LayoutView",
            "align_content": null,
            "align_items": null,
            "align_self": null,
            "border": null,
            "bottom": null,
            "display": null,
            "flex": null,
            "flex_flow": null,
            "grid_area": null,
            "grid_auto_columns": null,
            "grid_auto_flow": null,
            "grid_auto_rows": null,
            "grid_column": null,
            "grid_gap": null,
            "grid_row": null,
            "grid_template_areas": null,
            "grid_template_columns": null,
            "grid_template_rows": null,
            "height": null,
            "justify_content": null,
            "justify_items": null,
            "left": null,
            "margin": null,
            "max_height": null,
            "max_width": null,
            "min_height": null,
            "min_width": null,
            "object_fit": null,
            "object_position": null,
            "order": null,
            "overflow": null,
            "overflow_x": null,
            "overflow_y": null,
            "padding": null,
            "right": null,
            "top": null,
            "visibility": null,
            "width": null
          }
        },
        "5a1b7cd142e94f22a9abc9e64b11d633": {
          "model_module": "@jupyter-widgets/controls",
          "model_module_version": "1.5.0",
          "model_name": "HTMLModel",
          "state": {
            "_dom_classes": [],
            "_model_module": "@jupyter-widgets/controls",
            "_model_module_version": "1.5.0",
            "_model_name": "HTMLModel",
            "_view_count": null,
            "_view_module": "@jupyter-widgets/controls",
            "_view_module_version": "1.5.0",
            "_view_name": "HTMLView",
            "description": "",
            "description_tooltip": null,
            "layout": "IPY_MODEL_7c74e70870304e83826f2a322341a000",
            "placeholder": "​",
            "style": "IPY_MODEL_5a98ade616cd441da36ed51b85f4b61c",
            "value": " 83.3M/83.3M [00:01&lt;00:00, 54.3MB/s]"
          }
        },
        "5a98ade616cd441da36ed51b85f4b61c": {
          "model_module": "@jupyter-widgets/controls",
          "model_module_version": "1.5.0",
          "model_name": "DescriptionStyleModel",
          "state": {
            "_model_module": "@jupyter-widgets/controls",
            "_model_module_version": "1.5.0",
            "_model_name": "DescriptionStyleModel",
            "_view_count": null,
            "_view_module": "@jupyter-widgets/base",
            "_view_module_version": "1.2.0",
            "_view_name": "StyleView",
            "description_width": ""
          }
        },
        "5d46ef19e68c4974a5001a48121047f3": {
          "model_module": "@jupyter-widgets/base",
          "model_module_version": "1.2.0",
          "model_name": "LayoutModel",
          "state": {
            "_model_module": "@jupyter-widgets/base",
            "_model_module_version": "1.2.0",
            "_model_name": "LayoutModel",
            "_view_count": null,
            "_view_module": "@jupyter-widgets/base",
            "_view_module_version": "1.2.0",
            "_view_name": "LayoutView",
            "align_content": null,
            "align_items": null,
            "align_self": null,
            "border": null,
            "bottom": null,
            "display": null,
            "flex": null,
            "flex_flow": null,
            "grid_area": null,
            "grid_auto_columns": null,
            "grid_auto_flow": null,
            "grid_auto_rows": null,
            "grid_column": null,
            "grid_gap": null,
            "grid_row": null,
            "grid_template_areas": null,
            "grid_template_columns": null,
            "grid_template_rows": null,
            "height": null,
            "justify_content": null,
            "justify_items": null,
            "left": null,
            "margin": null,
            "max_height": null,
            "max_width": null,
            "min_height": null,
            "min_width": null,
            "object_fit": null,
            "object_position": null,
            "order": null,
            "overflow": null,
            "overflow_x": null,
            "overflow_y": null,
            "padding": null,
            "right": null,
            "top": null,
            "visibility": null,
            "width": null
          }
        },
        "5d5fa4a478844c798c91a274361cda2b": {
          "model_module": "@jupyter-widgets/base",
          "model_module_version": "1.2.0",
          "model_name": "LayoutModel",
          "state": {
            "_model_module": "@jupyter-widgets/base",
            "_model_module_version": "1.2.0",
            "_model_name": "LayoutModel",
            "_view_count": null,
            "_view_module": "@jupyter-widgets/base",
            "_view_module_version": "1.2.0",
            "_view_name": "LayoutView",
            "align_content": null,
            "align_items": null,
            "align_self": null,
            "border": null,
            "bottom": null,
            "display": null,
            "flex": null,
            "flex_flow": null,
            "grid_area": null,
            "grid_auto_columns": null,
            "grid_auto_flow": null,
            "grid_auto_rows": null,
            "grid_column": null,
            "grid_gap": null,
            "grid_row": null,
            "grid_template_areas": null,
            "grid_template_columns": null,
            "grid_template_rows": null,
            "height": null,
            "justify_content": null,
            "justify_items": null,
            "left": null,
            "margin": null,
            "max_height": null,
            "max_width": null,
            "min_height": null,
            "min_width": null,
            "object_fit": null,
            "object_position": null,
            "order": null,
            "overflow": null,
            "overflow_x": null,
            "overflow_y": null,
            "padding": null,
            "right": null,
            "top": null,
            "visibility": null,
            "width": null
          }
        },
        "5fb9f7acb4c7491a986f6d674f467028": {
          "model_module": "@jupyter-widgets/base",
          "model_module_version": "1.2.0",
          "model_name": "LayoutModel",
          "state": {
            "_model_module": "@jupyter-widgets/base",
            "_model_module_version": "1.2.0",
            "_model_name": "LayoutModel",
            "_view_count": null,
            "_view_module": "@jupyter-widgets/base",
            "_view_module_version": "1.2.0",
            "_view_name": "LayoutView",
            "align_content": null,
            "align_items": null,
            "align_self": null,
            "border": null,
            "bottom": null,
            "display": null,
            "flex": null,
            "flex_flow": null,
            "grid_area": null,
            "grid_auto_columns": null,
            "grid_auto_flow": null,
            "grid_auto_rows": null,
            "grid_column": null,
            "grid_gap": null,
            "grid_row": null,
            "grid_template_areas": null,
            "grid_template_columns": null,
            "grid_template_rows": null,
            "height": null,
            "justify_content": null,
            "justify_items": null,
            "left": null,
            "margin": null,
            "max_height": null,
            "max_width": null,
            "min_height": null,
            "min_width": null,
            "object_fit": null,
            "object_position": null,
            "order": null,
            "overflow": null,
            "overflow_x": null,
            "overflow_y": null,
            "padding": null,
            "right": null,
            "top": null,
            "visibility": null,
            "width": null
          }
        },
        "65b31b2e94b04dd39298f004f9493e29": {
          "model_module": "@jupyter-widgets/controls",
          "model_module_version": "1.5.0",
          "model_name": "DescriptionStyleModel",
          "state": {
            "_model_module": "@jupyter-widgets/controls",
            "_model_module_version": "1.5.0",
            "_model_name": "DescriptionStyleModel",
            "_view_count": null,
            "_view_module": "@jupyter-widgets/base",
            "_view_module_version": "1.2.0",
            "_view_name": "StyleView",
            "description_width": ""
          }
        },
        "68eb916bf9494da6a1740e404da1c602": {
          "model_module": "@jupyter-widgets/base",
          "model_module_version": "1.2.0",
          "model_name": "LayoutModel",
          "state": {
            "_model_module": "@jupyter-widgets/base",
            "_model_module_version": "1.2.0",
            "_model_name": "LayoutModel",
            "_view_count": null,
            "_view_module": "@jupyter-widgets/base",
            "_view_module_version": "1.2.0",
            "_view_name": "LayoutView",
            "align_content": null,
            "align_items": null,
            "align_self": null,
            "border": null,
            "bottom": null,
            "display": null,
            "flex": null,
            "flex_flow": null,
            "grid_area": null,
            "grid_auto_columns": null,
            "grid_auto_flow": null,
            "grid_auto_rows": null,
            "grid_column": null,
            "grid_gap": null,
            "grid_row": null,
            "grid_template_areas": null,
            "grid_template_columns": null,
            "grid_template_rows": null,
            "height": null,
            "justify_content": null,
            "justify_items": null,
            "left": null,
            "margin": null,
            "max_height": null,
            "max_width": null,
            "min_height": null,
            "min_width": null,
            "object_fit": null,
            "object_position": null,
            "order": null,
            "overflow": null,
            "overflow_x": null,
            "overflow_y": null,
            "padding": null,
            "right": null,
            "top": null,
            "visibility": null,
            "width": null
          }
        },
        "6b7194d233cd47428f58bf987f9712fe": {
          "model_module": "@jupyter-widgets/controls",
          "model_module_version": "1.5.0",
          "model_name": "HTMLModel",
          "state": {
            "_dom_classes": [],
            "_model_module": "@jupyter-widgets/controls",
            "_model_module_version": "1.5.0",
            "_model_name": "HTMLModel",
            "_view_count": null,
            "_view_module": "@jupyter-widgets/controls",
            "_view_module_version": "1.5.0",
            "_view_name": "HTMLView",
            "description": "",
            "description_tooltip": null,
            "layout": "IPY_MODEL_dbbb60965fb24cd9b2dc1ea510e7e480",
            "placeholder": "​",
            "style": "IPY_MODEL_d06a71fe937b4ee1a44764f020bf3d57",
            "value": " 129k/129k [00:00&lt;00:00, 234kB/s]"
          }
        },
        "71d0b4b532e649829bc813d0f09b2c3b": {
          "model_module": "@jupyter-widgets/controls",
          "model_module_version": "1.5.0",
          "model_name": "DescriptionStyleModel",
          "state": {
            "_model_module": "@jupyter-widgets/controls",
            "_model_module_version": "1.5.0",
            "_model_name": "DescriptionStyleModel",
            "_view_count": null,
            "_view_module": "@jupyter-widgets/base",
            "_view_module_version": "1.2.0",
            "_view_name": "StyleView",
            "description_width": ""
          }
        },
        "766c1a1b8c1248e79dfa03ec89dbc4dd": {
          "model_module": "@jupyter-widgets/base",
          "model_module_version": "1.2.0",
          "model_name": "LayoutModel",
          "state": {
            "_model_module": "@jupyter-widgets/base",
            "_model_module_version": "1.2.0",
            "_model_name": "LayoutModel",
            "_view_count": null,
            "_view_module": "@jupyter-widgets/base",
            "_view_module_version": "1.2.0",
            "_view_name": "LayoutView",
            "align_content": null,
            "align_items": null,
            "align_self": null,
            "border": null,
            "bottom": null,
            "display": null,
            "flex": null,
            "flex_flow": null,
            "grid_area": null,
            "grid_auto_columns": null,
            "grid_auto_flow": null,
            "grid_auto_rows": null,
            "grid_column": null,
            "grid_gap": null,
            "grid_row": null,
            "grid_template_areas": null,
            "grid_template_columns": null,
            "grid_template_rows": null,
            "height": null,
            "justify_content": null,
            "justify_items": null,
            "left": null,
            "margin": null,
            "max_height": null,
            "max_width": null,
            "min_height": null,
            "min_width": null,
            "object_fit": null,
            "object_position": null,
            "order": null,
            "overflow": null,
            "overflow_x": null,
            "overflow_y": null,
            "padding": null,
            "right": null,
            "top": null,
            "visibility": null,
            "width": null
          }
        },
        "7c74e70870304e83826f2a322341a000": {
          "model_module": "@jupyter-widgets/base",
          "model_module_version": "1.2.0",
          "model_name": "LayoutModel",
          "state": {
            "_model_module": "@jupyter-widgets/base",
            "_model_module_version": "1.2.0",
            "_model_name": "LayoutModel",
            "_view_count": null,
            "_view_module": "@jupyter-widgets/base",
            "_view_module_version": "1.2.0",
            "_view_name": "LayoutView",
            "align_content": null,
            "align_items": null,
            "align_self": null,
            "border": null,
            "bottom": null,
            "display": null,
            "flex": null,
            "flex_flow": null,
            "grid_area": null,
            "grid_auto_columns": null,
            "grid_auto_flow": null,
            "grid_auto_rows": null,
            "grid_column": null,
            "grid_gap": null,
            "grid_row": null,
            "grid_template_areas": null,
            "grid_template_columns": null,
            "grid_template_rows": null,
            "height": null,
            "justify_content": null,
            "justify_items": null,
            "left": null,
            "margin": null,
            "max_height": null,
            "max_width": null,
            "min_height": null,
            "min_width": null,
            "object_fit": null,
            "object_position": null,
            "order": null,
            "overflow": null,
            "overflow_x": null,
            "overflow_y": null,
            "padding": null,
            "right": null,
            "top": null,
            "visibility": null,
            "width": null
          }
        },
        "7e8227f2dac34d83a3c670e4d4e0a249": {
          "model_module": "@jupyter-widgets/controls",
          "model_module_version": "1.5.0",
          "model_name": "DescriptionStyleModel",
          "state": {
            "_model_module": "@jupyter-widgets/controls",
            "_model_module_version": "1.5.0",
            "_model_name": "DescriptionStyleModel",
            "_view_count": null,
            "_view_module": "@jupyter-widgets/base",
            "_view_module_version": "1.2.0",
            "_view_name": "StyleView",
            "description_width": ""
          }
        },
        "85c433e956794588b166c9ed6fa68c20": {
          "model_module": "@jupyter-widgets/controls",
          "model_module_version": "1.5.0",
          "model_name": "DescriptionStyleModel",
          "state": {
            "_model_module": "@jupyter-widgets/controls",
            "_model_module_version": "1.5.0",
            "_model_name": "DescriptionStyleModel",
            "_view_count": null,
            "_view_module": "@jupyter-widgets/base",
            "_view_module_version": "1.2.0",
            "_view_name": "StyleView",
            "description_width": ""
          }
        },
        "88186bbd5a1c4425b254d608ca85cd8a": {
          "model_module": "@jupyter-widgets/base",
          "model_module_version": "1.2.0",
          "model_name": "LayoutModel",
          "state": {
            "_model_module": "@jupyter-widgets/base",
            "_model_module_version": "1.2.0",
            "_model_name": "LayoutModel",
            "_view_count": null,
            "_view_module": "@jupyter-widgets/base",
            "_view_module_version": "1.2.0",
            "_view_name": "LayoutView",
            "align_content": null,
            "align_items": null,
            "align_self": null,
            "border": null,
            "bottom": null,
            "display": null,
            "flex": null,
            "flex_flow": null,
            "grid_area": null,
            "grid_auto_columns": null,
            "grid_auto_flow": null,
            "grid_auto_rows": null,
            "grid_column": null,
            "grid_gap": null,
            "grid_row": null,
            "grid_template_areas": null,
            "grid_template_columns": null,
            "grid_template_rows": null,
            "height": null,
            "justify_content": null,
            "justify_items": null,
            "left": null,
            "margin": null,
            "max_height": null,
            "max_width": null,
            "min_height": null,
            "min_width": null,
            "object_fit": null,
            "object_position": null,
            "order": null,
            "overflow": null,
            "overflow_x": null,
            "overflow_y": null,
            "padding": null,
            "right": null,
            "top": null,
            "visibility": null,
            "width": null
          }
        },
        "8f9cafa27efc43c4bb3f566f87df523c": {
          "model_module": "@jupyter-widgets/base",
          "model_module_version": "1.2.0",
          "model_name": "LayoutModel",
          "state": {
            "_model_module": "@jupyter-widgets/base",
            "_model_module_version": "1.2.0",
            "_model_name": "LayoutModel",
            "_view_count": null,
            "_view_module": "@jupyter-widgets/base",
            "_view_module_version": "1.2.0",
            "_view_name": "LayoutView",
            "align_content": null,
            "align_items": null,
            "align_self": null,
            "border": null,
            "bottom": null,
            "display": null,
            "flex": null,
            "flex_flow": null,
            "grid_area": null,
            "grid_auto_columns": null,
            "grid_auto_flow": null,
            "grid_auto_rows": null,
            "grid_column": null,
            "grid_gap": null,
            "grid_row": null,
            "grid_template_areas": null,
            "grid_template_columns": null,
            "grid_template_rows": null,
            "height": null,
            "justify_content": null,
            "justify_items": null,
            "left": null,
            "margin": null,
            "max_height": null,
            "max_width": null,
            "min_height": null,
            "min_width": null,
            "object_fit": null,
            "object_position": null,
            "order": null,
            "overflow": null,
            "overflow_x": null,
            "overflow_y": null,
            "padding": null,
            "right": null,
            "top": null,
            "visibility": null,
            "width": null
          }
        },
        "9403474d6e774f4dbb36c843620ba666": {
          "model_module": "@jupyter-widgets/base",
          "model_module_version": "1.2.0",
          "model_name": "LayoutModel",
          "state": {
            "_model_module": "@jupyter-widgets/base",
            "_model_module_version": "1.2.0",
            "_model_name": "LayoutModel",
            "_view_count": null,
            "_view_module": "@jupyter-widgets/base",
            "_view_module_version": "1.2.0",
            "_view_name": "LayoutView",
            "align_content": null,
            "align_items": null,
            "align_self": null,
            "border": null,
            "bottom": null,
            "display": null,
            "flex": null,
            "flex_flow": null,
            "grid_area": null,
            "grid_auto_columns": null,
            "grid_auto_flow": null,
            "grid_auto_rows": null,
            "grid_column": null,
            "grid_gap": null,
            "grid_row": null,
            "grid_template_areas": null,
            "grid_template_columns": null,
            "grid_template_rows": null,
            "height": null,
            "justify_content": null,
            "justify_items": null,
            "left": null,
            "margin": null,
            "max_height": null,
            "max_width": null,
            "min_height": null,
            "min_width": null,
            "object_fit": null,
            "object_position": null,
            "order": null,
            "overflow": null,
            "overflow_x": null,
            "overflow_y": null,
            "padding": null,
            "right": null,
            "top": null,
            "visibility": null,
            "width": null
          }
        },
        "9652595d01cc478c952a368a1f86940d": {
          "model_module": "@jupyter-widgets/controls",
          "model_module_version": "1.5.0",
          "model_name": "FloatProgressModel",
          "state": {
            "_dom_classes": [],
            "_model_module": "@jupyter-widgets/controls",
            "_model_module_version": "1.5.0",
            "_model_name": "FloatProgressModel",
            "_view_count": null,
            "_view_module": "@jupyter-widgets/controls",
            "_view_module_version": "1.5.0",
            "_view_name": "ProgressView",
            "bar_style": "success",
            "description": "",
            "description_tooltip": null,
            "layout": "IPY_MODEL_c9389e064ac54435a3fd356b13b86f4e",
            "max": 1920,
            "min": 0,
            "orientation": "horizontal",
            "style": "IPY_MODEL_098d718a941542b99b772068e442e9fa",
            "value": 1920
          }
        },
        "a0b10ced5ddc47b5867d864bcc786e0e": {
          "model_module": "@jupyter-widgets/controls",
          "model_module_version": "1.5.0",
          "model_name": "ProgressStyleModel",
          "state": {
            "_model_module": "@jupyter-widgets/controls",
            "_model_module_version": "1.5.0",
            "_model_name": "ProgressStyleModel",
            "_view_count": null,
            "_view_module": "@jupyter-widgets/base",
            "_view_module_version": "1.2.0",
            "_view_name": "StyleView",
            "bar_color": null,
            "description_width": ""
          }
        },
        "a6919e4b1e2c4510958bf343ef2524a8": {
          "model_module": "@jupyter-widgets/controls",
          "model_module_version": "1.5.0",
          "model_name": "HTMLModel",
          "state": {
            "_dom_classes": [],
            "_model_module": "@jupyter-widgets/controls",
            "_model_module_version": "1.5.0",
            "_model_name": "HTMLModel",
            "_view_count": null,
            "_view_module": "@jupyter-widgets/controls",
            "_view_module_version": "1.5.0",
            "_view_name": "HTMLView",
            "description": "",
            "description_tooltip": null,
            "layout": "IPY_MODEL_458d4d31cd87402c97c4038553c06574",
            "placeholder": "​",
            "style": "IPY_MODEL_d6d8814501a34ef391c565ba4748e365",
            "value": "Downloading: 100%"
          }
        },
        "a6df649cf752475c9540bf1ba2fc7199": {
          "model_module": "@jupyter-widgets/base",
          "model_module_version": "1.2.0",
          "model_name": "LayoutModel",
          "state": {
            "_model_module": "@jupyter-widgets/base",
            "_model_module_version": "1.2.0",
            "_model_name": "LayoutModel",
            "_view_count": null,
            "_view_module": "@jupyter-widgets/base",
            "_view_module_version": "1.2.0",
            "_view_name": "LayoutView",
            "align_content": null,
            "align_items": null,
            "align_self": null,
            "border": null,
            "bottom": null,
            "display": null,
            "flex": null,
            "flex_flow": null,
            "grid_area": null,
            "grid_auto_columns": null,
            "grid_auto_flow": null,
            "grid_auto_rows": null,
            "grid_column": null,
            "grid_gap": null,
            "grid_row": null,
            "grid_template_areas": null,
            "grid_template_columns": null,
            "grid_template_rows": null,
            "height": null,
            "justify_content": null,
            "justify_items": null,
            "left": null,
            "margin": null,
            "max_height": null,
            "max_width": null,
            "min_height": null,
            "min_width": null,
            "object_fit": null,
            "object_position": null,
            "order": null,
            "overflow": null,
            "overflow_x": null,
            "overflow_y": null,
            "padding": null,
            "right": null,
            "top": null,
            "visibility": null,
            "width": null
          }
        },
        "a730cdaad4e24736b872723240a094dd": {
          "model_module": "@jupyter-widgets/base",
          "model_module_version": "1.2.0",
          "model_name": "LayoutModel",
          "state": {
            "_model_module": "@jupyter-widgets/base",
            "_model_module_version": "1.2.0",
            "_model_name": "LayoutModel",
            "_view_count": null,
            "_view_module": "@jupyter-widgets/base",
            "_view_module_version": "1.2.0",
            "_view_name": "LayoutView",
            "align_content": null,
            "align_items": null,
            "align_self": null,
            "border": null,
            "bottom": null,
            "display": null,
            "flex": null,
            "flex_flow": null,
            "grid_area": null,
            "grid_auto_columns": null,
            "grid_auto_flow": null,
            "grid_auto_rows": null,
            "grid_column": null,
            "grid_gap": null,
            "grid_row": null,
            "grid_template_areas": null,
            "grid_template_columns": null,
            "grid_template_rows": null,
            "height": null,
            "justify_content": null,
            "justify_items": null,
            "left": null,
            "margin": null,
            "max_height": null,
            "max_width": null,
            "min_height": null,
            "min_width": null,
            "object_fit": null,
            "object_position": null,
            "order": null,
            "overflow": null,
            "overflow_x": null,
            "overflow_y": null,
            "padding": null,
            "right": null,
            "top": null,
            "visibility": null,
            "width": null
          }
        },
        "a7d1f042f6124c51aa69ac6985e7c83c": {
          "model_module": "@jupyter-widgets/controls",
          "model_module_version": "1.5.0",
          "model_name": "HTMLModel",
          "state": {
            "_dom_classes": [],
            "_model_module": "@jupyter-widgets/controls",
            "_model_module_version": "1.5.0",
            "_model_name": "HTMLModel",
            "_view_count": null,
            "_view_module": "@jupyter-widgets/controls",
            "_view_module_version": "1.5.0",
            "_view_name": "HTMLView",
            "description": "",
            "description_tooltip": null,
            "layout": "IPY_MODEL_5d46ef19e68c4974a5001a48121047f3",
            "placeholder": "​",
            "style": "IPY_MODEL_65b31b2e94b04dd39298f004f9493e29",
            "value": "Downloading: 100%"
          }
        },
        "a93270536a094ed694b825ea38aa36a2": {
          "model_module": "@jupyter-widgets/controls",
          "model_module_version": "1.5.0",
          "model_name": "ProgressStyleModel",
          "state": {
            "_model_module": "@jupyter-widgets/controls",
            "_model_module_version": "1.5.0",
            "_model_name": "ProgressStyleModel",
            "_view_count": null,
            "_view_module": "@jupyter-widgets/base",
            "_view_module_version": "1.2.0",
            "_view_name": "StyleView",
            "bar_color": null,
            "description_width": ""
          }
        },
        "a9a5de2de75643048ba821d73a00d5c7": {
          "model_module": "@jupyter-widgets/base",
          "model_module_version": "1.2.0",
          "model_name": "LayoutModel",
          "state": {
            "_model_module": "@jupyter-widgets/base",
            "_model_module_version": "1.2.0",
            "_model_name": "LayoutModel",
            "_view_count": null,
            "_view_module": "@jupyter-widgets/base",
            "_view_module_version": "1.2.0",
            "_view_name": "LayoutView",
            "align_content": null,
            "align_items": null,
            "align_self": null,
            "border": null,
            "bottom": null,
            "display": null,
            "flex": null,
            "flex_flow": null,
            "grid_area": null,
            "grid_auto_columns": null,
            "grid_auto_flow": null,
            "grid_auto_rows": null,
            "grid_column": null,
            "grid_gap": null,
            "grid_row": null,
            "grid_template_areas": null,
            "grid_template_columns": null,
            "grid_template_rows": null,
            "height": null,
            "justify_content": null,
            "justify_items": null,
            "left": null,
            "margin": null,
            "max_height": null,
            "max_width": null,
            "min_height": null,
            "min_width": null,
            "object_fit": null,
            "object_position": null,
            "order": null,
            "overflow": null,
            "overflow_x": null,
            "overflow_y": null,
            "padding": null,
            "right": null,
            "top": null,
            "visibility": null,
            "width": null
          }
        },
        "a9b8f75e82274a4e8cfa1026fe8408de": {
          "model_module": "@jupyter-widgets/controls",
          "model_module_version": "1.5.0",
          "model_name": "HTMLModel",
          "state": {
            "_dom_classes": [],
            "_model_module": "@jupyter-widgets/controls",
            "_model_module_version": "1.5.0",
            "_model_name": "HTMLModel",
            "_view_count": null,
            "_view_module": "@jupyter-widgets/controls",
            "_view_module_version": "1.5.0",
            "_view_name": "HTMLView",
            "description": "",
            "description_tooltip": null,
            "layout": "IPY_MODEL_0831e94760fa421384e2b33c97532d09",
            "placeholder": "​",
            "style": "IPY_MODEL_b7073c903e1e4701b68516dc8a867fc1",
            "value": " 1.92k/1.92k [00:00&lt;00:00, 63.8kB/s]"
          }
        },
        "ade8c72f0eb64de58c4a1351c0b5cdbd": {
          "model_module": "@jupyter-widgets/controls",
          "model_module_version": "1.5.0",
          "model_name": "HTMLModel",
          "state": {
            "_dom_classes": [],
            "_model_module": "@jupyter-widgets/controls",
            "_model_module_version": "1.5.0",
            "_model_name": "HTMLModel",
            "_view_count": null,
            "_view_module": "@jupyter-widgets/controls",
            "_view_module_version": "1.5.0",
            "_view_name": "HTMLView",
            "description": "",
            "description_tooltip": null,
            "layout": "IPY_MODEL_68eb916bf9494da6a1740e404da1c602",
            "placeholder": "​",
            "style": "IPY_MODEL_1c72713c82fa4ab89cb8fbe84089828f",
            "value": "Downloading: 100%"
          }
        },
        "ae3785b55e8c4b7e963dc357fb255f05": {
          "model_module": "@jupyter-widgets/base",
          "model_module_version": "1.2.0",
          "model_name": "LayoutModel",
          "state": {
            "_model_module": "@jupyter-widgets/base",
            "_model_module_version": "1.2.0",
            "_model_name": "LayoutModel",
            "_view_count": null,
            "_view_module": "@jupyter-widgets/base",
            "_view_module_version": "1.2.0",
            "_view_name": "LayoutView",
            "align_content": null,
            "align_items": null,
            "align_self": null,
            "border": null,
            "bottom": null,
            "display": null,
            "flex": null,
            "flex_flow": null,
            "grid_area": null,
            "grid_auto_columns": null,
            "grid_auto_flow": null,
            "grid_auto_rows": null,
            "grid_column": null,
            "grid_gap": null,
            "grid_row": null,
            "grid_template_areas": null,
            "grid_template_columns": null,
            "grid_template_rows": null,
            "height": null,
            "justify_content": null,
            "justify_items": null,
            "left": null,
            "margin": null,
            "max_height": null,
            "max_width": null,
            "min_height": null,
            "min_width": null,
            "object_fit": null,
            "object_position": null,
            "order": null,
            "overflow": null,
            "overflow_x": null,
            "overflow_y": null,
            "padding": null,
            "right": null,
            "top": null,
            "visibility": null,
            "width": null
          }
        },
        "b2791832f51f4794acfdbded875bc9b5": {
          "model_module": "@jupyter-widgets/base",
          "model_module_version": "1.2.0",
          "model_name": "LayoutModel",
          "state": {
            "_model_module": "@jupyter-widgets/base",
            "_model_module_version": "1.2.0",
            "_model_name": "LayoutModel",
            "_view_count": null,
            "_view_module": "@jupyter-widgets/base",
            "_view_module_version": "1.2.0",
            "_view_name": "LayoutView",
            "align_content": null,
            "align_items": null,
            "align_self": null,
            "border": null,
            "bottom": null,
            "display": null,
            "flex": null,
            "flex_flow": null,
            "grid_area": null,
            "grid_auto_columns": null,
            "grid_auto_flow": null,
            "grid_auto_rows": null,
            "grid_column": null,
            "grid_gap": null,
            "grid_row": null,
            "grid_template_areas": null,
            "grid_template_columns": null,
            "grid_template_rows": null,
            "height": null,
            "justify_content": null,
            "justify_items": null,
            "left": null,
            "margin": null,
            "max_height": null,
            "max_width": null,
            "min_height": null,
            "min_width": null,
            "object_fit": null,
            "object_position": null,
            "order": null,
            "overflow": null,
            "overflow_x": null,
            "overflow_y": null,
            "padding": null,
            "right": null,
            "top": null,
            "visibility": null,
            "width": null
          }
        },
        "b67a926cc4904c2f84efd509098e103c": {
          "model_module": "@jupyter-widgets/controls",
          "model_module_version": "1.5.0",
          "model_name": "HTMLModel",
          "state": {
            "_dom_classes": [],
            "_model_module": "@jupyter-widgets/controls",
            "_model_module_version": "1.5.0",
            "_model_name": "HTMLModel",
            "_view_count": null,
            "_view_module": "@jupyter-widgets/controls",
            "_view_module_version": "1.5.0",
            "_view_name": "HTMLView",
            "description": "",
            "description_tooltip": null,
            "layout": "IPY_MODEL_0c4de4008c2e45e5a31d21cdb954f0f2",
            "placeholder": "​",
            "style": "IPY_MODEL_28ef8f3ac2e44445ac9e40d140e513d3",
            "value": "Downloading: 100%"
          }
        },
        "b7073c903e1e4701b68516dc8a867fc1": {
          "model_module": "@jupyter-widgets/controls",
          "model_module_version": "1.5.0",
          "model_name": "DescriptionStyleModel",
          "state": {
            "_model_module": "@jupyter-widgets/controls",
            "_model_module_version": "1.5.0",
            "_model_name": "DescriptionStyleModel",
            "_view_count": null,
            "_view_module": "@jupyter-widgets/base",
            "_view_module_version": "1.2.0",
            "_view_name": "StyleView",
            "description_width": ""
          }
        },
        "b71b33109b124e30b0004634467e64dc": {
          "model_module": "@jupyter-widgets/base",
          "model_module_version": "1.2.0",
          "model_name": "LayoutModel",
          "state": {
            "_model_module": "@jupyter-widgets/base",
            "_model_module_version": "1.2.0",
            "_model_name": "LayoutModel",
            "_view_count": null,
            "_view_module": "@jupyter-widgets/base",
            "_view_module_version": "1.2.0",
            "_view_name": "LayoutView",
            "align_content": null,
            "align_items": null,
            "align_self": null,
            "border": null,
            "bottom": null,
            "display": null,
            "flex": null,
            "flex_flow": null,
            "grid_area": null,
            "grid_auto_columns": null,
            "grid_auto_flow": null,
            "grid_auto_rows": null,
            "grid_column": null,
            "grid_gap": null,
            "grid_row": null,
            "grid_template_areas": null,
            "grid_template_columns": null,
            "grid_template_rows": null,
            "height": null,
            "justify_content": null,
            "justify_items": null,
            "left": null,
            "margin": null,
            "max_height": null,
            "max_width": null,
            "min_height": null,
            "min_width": null,
            "object_fit": null,
            "object_position": null,
            "order": null,
            "overflow": null,
            "overflow_x": null,
            "overflow_y": null,
            "padding": null,
            "right": null,
            "top": null,
            "visibility": null,
            "width": null
          }
        },
        "b8cdfacd7bee4c398fc513ed2a3311e3": {
          "model_module": "@jupyter-widgets/base",
          "model_module_version": "1.2.0",
          "model_name": "LayoutModel",
          "state": {
            "_model_module": "@jupyter-widgets/base",
            "_model_module_version": "1.2.0",
            "_model_name": "LayoutModel",
            "_view_count": null,
            "_view_module": "@jupyter-widgets/base",
            "_view_module_version": "1.2.0",
            "_view_name": "LayoutView",
            "align_content": null,
            "align_items": null,
            "align_self": null,
            "border": null,
            "bottom": null,
            "display": null,
            "flex": null,
            "flex_flow": null,
            "grid_area": null,
            "grid_auto_columns": null,
            "grid_auto_flow": null,
            "grid_auto_rows": null,
            "grid_column": null,
            "grid_gap": null,
            "grid_row": null,
            "grid_template_areas": null,
            "grid_template_columns": null,
            "grid_template_rows": null,
            "height": null,
            "justify_content": null,
            "justify_items": null,
            "left": null,
            "margin": null,
            "max_height": null,
            "max_width": null,
            "min_height": null,
            "min_width": null,
            "object_fit": null,
            "object_position": null,
            "order": null,
            "overflow": null,
            "overflow_x": null,
            "overflow_y": null,
            "padding": null,
            "right": null,
            "top": null,
            "visibility": null,
            "width": null
          }
        },
        "bbacac6c5aff4686a31130560e9cf86b": {
          "model_module": "@jupyter-widgets/controls",
          "model_module_version": "1.5.0",
          "model_name": "HBoxModel",
          "state": {
            "_dom_classes": [],
            "_model_module": "@jupyter-widgets/controls",
            "_model_module_version": "1.5.0",
            "_model_name": "HBoxModel",
            "_view_count": null,
            "_view_module": "@jupyter-widgets/controls",
            "_view_module_version": "1.5.0",
            "_view_name": "HBoxView",
            "box_style": "",
            "children": [
              "IPY_MODEL_ade8c72f0eb64de58c4a1351c0b5cdbd",
              "IPY_MODEL_ea54cd59edc64f95958f62a9b6e182c9",
              "IPY_MODEL_5a1b7cd142e94f22a9abc9e64b11d633"
            ],
            "layout": "IPY_MODEL_9403474d6e774f4dbb36c843620ba666"
          }
        },
        "bf18adc120174a8bb6cd6f09d853911f": {
          "model_module": "@jupyter-widgets/base",
          "model_module_version": "1.2.0",
          "model_name": "LayoutModel",
          "state": {
            "_model_module": "@jupyter-widgets/base",
            "_model_module_version": "1.2.0",
            "_model_name": "LayoutModel",
            "_view_count": null,
            "_view_module": "@jupyter-widgets/base",
            "_view_module_version": "1.2.0",
            "_view_name": "LayoutView",
            "align_content": null,
            "align_items": null,
            "align_self": null,
            "border": null,
            "bottom": null,
            "display": null,
            "flex": null,
            "flex_flow": null,
            "grid_area": null,
            "grid_auto_columns": null,
            "grid_auto_flow": null,
            "grid_auto_rows": null,
            "grid_column": null,
            "grid_gap": null,
            "grid_row": null,
            "grid_template_areas": null,
            "grid_template_columns": null,
            "grid_template_rows": null,
            "height": null,
            "justify_content": null,
            "justify_items": null,
            "left": null,
            "margin": null,
            "max_height": null,
            "max_width": null,
            "min_height": null,
            "min_width": null,
            "object_fit": null,
            "object_position": null,
            "order": null,
            "overflow": null,
            "overflow_x": null,
            "overflow_y": null,
            "padding": null,
            "right": null,
            "top": null,
            "visibility": null,
            "width": null
          }
        },
        "c9389e064ac54435a3fd356b13b86f4e": {
          "model_module": "@jupyter-widgets/base",
          "model_module_version": "1.2.0",
          "model_name": "LayoutModel",
          "state": {
            "_model_module": "@jupyter-widgets/base",
            "_model_module_version": "1.2.0",
            "_model_name": "LayoutModel",
            "_view_count": null,
            "_view_module": "@jupyter-widgets/base",
            "_view_module_version": "1.2.0",
            "_view_name": "LayoutView",
            "align_content": null,
            "align_items": null,
            "align_self": null,
            "border": null,
            "bottom": null,
            "display": null,
            "flex": null,
            "flex_flow": null,
            "grid_area": null,
            "grid_auto_columns": null,
            "grid_auto_flow": null,
            "grid_auto_rows": null,
            "grid_column": null,
            "grid_gap": null,
            "grid_row": null,
            "grid_template_areas": null,
            "grid_template_columns": null,
            "grid_template_rows": null,
            "height": null,
            "justify_content": null,
            "justify_items": null,
            "left": null,
            "margin": null,
            "max_height": null,
            "max_width": null,
            "min_height": null,
            "min_width": null,
            "object_fit": null,
            "object_position": null,
            "order": null,
            "overflow": null,
            "overflow_x": null,
            "overflow_y": null,
            "padding": null,
            "right": null,
            "top": null,
            "visibility": null,
            "width": null
          }
        },
        "d06a71fe937b4ee1a44764f020bf3d57": {
          "model_module": "@jupyter-widgets/controls",
          "model_module_version": "1.5.0",
          "model_name": "DescriptionStyleModel",
          "state": {
            "_model_module": "@jupyter-widgets/controls",
            "_model_module_version": "1.5.0",
            "_model_name": "DescriptionStyleModel",
            "_view_count": null,
            "_view_module": "@jupyter-widgets/base",
            "_view_module_version": "1.2.0",
            "_view_name": "StyleView",
            "description_width": ""
          }
        },
        "d137a72df0a849a8913fd62924c1848a": {
          "model_module": "@jupyter-widgets/base",
          "model_module_version": "1.2.0",
          "model_name": "LayoutModel",
          "state": {
            "_model_module": "@jupyter-widgets/base",
            "_model_module_version": "1.2.0",
            "_model_name": "LayoutModel",
            "_view_count": null,
            "_view_module": "@jupyter-widgets/base",
            "_view_module_version": "1.2.0",
            "_view_name": "LayoutView",
            "align_content": null,
            "align_items": null,
            "align_self": null,
            "border": null,
            "bottom": null,
            "display": null,
            "flex": null,
            "flex_flow": null,
            "grid_area": null,
            "grid_auto_columns": null,
            "grid_auto_flow": null,
            "grid_auto_rows": null,
            "grid_column": null,
            "grid_gap": null,
            "grid_row": null,
            "grid_template_areas": null,
            "grid_template_columns": null,
            "grid_template_rows": null,
            "height": null,
            "justify_content": null,
            "justify_items": null,
            "left": null,
            "margin": null,
            "max_height": null,
            "max_width": null,
            "min_height": null,
            "min_width": null,
            "object_fit": null,
            "object_position": null,
            "order": null,
            "overflow": null,
            "overflow_x": null,
            "overflow_y": null,
            "padding": null,
            "right": null,
            "top": null,
            "visibility": null,
            "width": null
          }
        },
        "d6d8814501a34ef391c565ba4748e365": {
          "model_module": "@jupyter-widgets/controls",
          "model_module_version": "1.5.0",
          "model_name": "DescriptionStyleModel",
          "state": {
            "_model_module": "@jupyter-widgets/controls",
            "_model_module_version": "1.5.0",
            "_model_name": "DescriptionStyleModel",
            "_view_count": null,
            "_view_module": "@jupyter-widgets/base",
            "_view_module_version": "1.2.0",
            "_view_name": "StyleView",
            "description_width": ""
          }
        },
        "dbbb60965fb24cd9b2dc1ea510e7e480": {
          "model_module": "@jupyter-widgets/base",
          "model_module_version": "1.2.0",
          "model_name": "LayoutModel",
          "state": {
            "_model_module": "@jupyter-widgets/base",
            "_model_module_version": "1.2.0",
            "_model_name": "LayoutModel",
            "_view_count": null,
            "_view_module": "@jupyter-widgets/base",
            "_view_module_version": "1.2.0",
            "_view_name": "LayoutView",
            "align_content": null,
            "align_items": null,
            "align_self": null,
            "border": null,
            "bottom": null,
            "display": null,
            "flex": null,
            "flex_flow": null,
            "grid_area": null,
            "grid_auto_columns": null,
            "grid_auto_flow": null,
            "grid_auto_rows": null,
            "grid_column": null,
            "grid_gap": null,
            "grid_row": null,
            "grid_template_areas": null,
            "grid_template_columns": null,
            "grid_template_rows": null,
            "height": null,
            "justify_content": null,
            "justify_items": null,
            "left": null,
            "margin": null,
            "max_height": null,
            "max_width": null,
            "min_height": null,
            "min_width": null,
            "object_fit": null,
            "object_position": null,
            "order": null,
            "overflow": null,
            "overflow_x": null,
            "overflow_y": null,
            "padding": null,
            "right": null,
            "top": null,
            "visibility": null,
            "width": null
          }
        },
        "e4802c94ccaf404180f3760e3b859a3a": {
          "model_module": "@jupyter-widgets/base",
          "model_module_version": "1.2.0",
          "model_name": "LayoutModel",
          "state": {
            "_model_module": "@jupyter-widgets/base",
            "_model_module_version": "1.2.0",
            "_model_name": "LayoutModel",
            "_view_count": null,
            "_view_module": "@jupyter-widgets/base",
            "_view_module_version": "1.2.0",
            "_view_name": "LayoutView",
            "align_content": null,
            "align_items": null,
            "align_self": null,
            "border": null,
            "bottom": null,
            "display": null,
            "flex": null,
            "flex_flow": null,
            "grid_area": null,
            "grid_auto_columns": null,
            "grid_auto_flow": null,
            "grid_auto_rows": null,
            "grid_column": null,
            "grid_gap": null,
            "grid_row": null,
            "grid_template_areas": null,
            "grid_template_columns": null,
            "grid_template_rows": null,
            "height": null,
            "justify_content": null,
            "justify_items": null,
            "left": null,
            "margin": null,
            "max_height": null,
            "max_width": null,
            "min_height": null,
            "min_width": null,
            "object_fit": null,
            "object_position": null,
            "order": null,
            "overflow": null,
            "overflow_x": null,
            "overflow_y": null,
            "padding": null,
            "right": null,
            "top": null,
            "visibility": null,
            "width": null
          }
        },
        "e491634079f44e65a6edb5d799a2b74e": {
          "model_module": "@jupyter-widgets/controls",
          "model_module_version": "1.5.0",
          "model_name": "DescriptionStyleModel",
          "state": {
            "_model_module": "@jupyter-widgets/controls",
            "_model_module_version": "1.5.0",
            "_model_name": "DescriptionStyleModel",
            "_view_count": null,
            "_view_module": "@jupyter-widgets/base",
            "_view_module_version": "1.2.0",
            "_view_name": "StyleView",
            "description_width": ""
          }
        },
        "e73e393e01f4487d86dfbe5e401b4c09": {
          "model_module": "@jupyter-widgets/base",
          "model_module_version": "1.2.0",
          "model_name": "LayoutModel",
          "state": {
            "_model_module": "@jupyter-widgets/base",
            "_model_module_version": "1.2.0",
            "_model_name": "LayoutModel",
            "_view_count": null,
            "_view_module": "@jupyter-widgets/base",
            "_view_module_version": "1.2.0",
            "_view_name": "LayoutView",
            "align_content": null,
            "align_items": null,
            "align_self": null,
            "border": null,
            "bottom": null,
            "display": null,
            "flex": null,
            "flex_flow": null,
            "grid_area": null,
            "grid_auto_columns": null,
            "grid_auto_flow": null,
            "grid_auto_rows": null,
            "grid_column": null,
            "grid_gap": null,
            "grid_row": null,
            "grid_template_areas": null,
            "grid_template_columns": null,
            "grid_template_rows": null,
            "height": null,
            "justify_content": null,
            "justify_items": null,
            "left": null,
            "margin": null,
            "max_height": null,
            "max_width": null,
            "min_height": null,
            "min_width": null,
            "object_fit": null,
            "object_position": null,
            "order": null,
            "overflow": null,
            "overflow_x": null,
            "overflow_y": null,
            "padding": null,
            "right": null,
            "top": null,
            "visibility": null,
            "width": null
          }
        },
        "e9b04004efb944c6ad7d53763d426626": {
          "model_module": "@jupyter-widgets/controls",
          "model_module_version": "1.5.0",
          "model_name": "DescriptionStyleModel",
          "state": {
            "_model_module": "@jupyter-widgets/controls",
            "_model_module_version": "1.5.0",
            "_model_name": "DescriptionStyleModel",
            "_view_count": null,
            "_view_module": "@jupyter-widgets/base",
            "_view_module_version": "1.2.0",
            "_view_name": "StyleView",
            "description_width": ""
          }
        },
        "ea54cd59edc64f95958f62a9b6e182c9": {
          "model_module": "@jupyter-widgets/controls",
          "model_module_version": "1.5.0",
          "model_name": "FloatProgressModel",
          "state": {
            "_dom_classes": [],
            "_model_module": "@jupyter-widgets/controls",
            "_model_module_version": "1.5.0",
            "_model_name": "FloatProgressModel",
            "_view_count": null,
            "_view_module": "@jupyter-widgets/controls",
            "_view_module_version": "1.5.0",
            "_view_name": "ProgressView",
            "bar_style": "success",
            "description": "",
            "description_tooltip": null,
            "layout": "IPY_MODEL_a730cdaad4e24736b872723240a094dd",
            "max": 83316686,
            "min": 0,
            "orientation": "horizontal",
            "style": "IPY_MODEL_a0b10ced5ddc47b5867d864bcc786e0e",
            "value": 83316686
          }
        },
        "eb2e878c6f0d413b9e82b93b6057e66f": {
          "model_module": "@jupyter-widgets/base",
          "model_module_version": "1.2.0",
          "model_name": "LayoutModel",
          "state": {
            "_model_module": "@jupyter-widgets/base",
            "_model_module_version": "1.2.0",
            "_model_name": "LayoutModel",
            "_view_count": null,
            "_view_module": "@jupyter-widgets/base",
            "_view_module_version": "1.2.0",
            "_view_name": "LayoutView",
            "align_content": null,
            "align_items": null,
            "align_self": null,
            "border": null,
            "bottom": null,
            "display": null,
            "flex": null,
            "flex_flow": null,
            "grid_area": null,
            "grid_auto_columns": null,
            "grid_auto_flow": null,
            "grid_auto_rows": null,
            "grid_column": null,
            "grid_gap": null,
            "grid_row": null,
            "grid_template_areas": null,
            "grid_template_columns": null,
            "grid_template_rows": null,
            "height": null,
            "justify_content": null,
            "justify_items": null,
            "left": null,
            "margin": null,
            "max_height": null,
            "max_width": null,
            "min_height": null,
            "min_width": null,
            "object_fit": null,
            "object_position": null,
            "order": null,
            "overflow": null,
            "overflow_x": null,
            "overflow_y": null,
            "padding": null,
            "right": null,
            "top": null,
            "visibility": null,
            "width": null
          }
        },
        "ec474373198046d299e09b4823a2766d": {
          "model_module": "@jupyter-widgets/controls",
          "model_module_version": "1.5.0",
          "model_name": "HTMLModel",
          "state": {
            "_dom_classes": [],
            "_model_module": "@jupyter-widgets/controls",
            "_model_module_version": "1.5.0",
            "_model_name": "HTMLModel",
            "_view_count": null,
            "_view_module": "@jupyter-widgets/controls",
            "_view_module_version": "1.5.0",
            "_view_name": "HTMLView",
            "description": "",
            "description_tooltip": null,
            "layout": "IPY_MODEL_ae3785b55e8c4b7e963dc357fb255f05",
            "placeholder": "​",
            "style": "IPY_MODEL_7e8227f2dac34d83a3c670e4d4e0a249",
            "value": " 17.7M/17.7M [00:01&lt;00:00, 33.8MB/s]"
          }
        },
        "f638d0f51ac548e8a36a0b8858082e29": {
          "model_module": "@jupyter-widgets/controls",
          "model_module_version": "1.5.0",
          "model_name": "HTMLModel",
          "state": {
            "_dom_classes": [],
            "_model_module": "@jupyter-widgets/controls",
            "_model_module_version": "1.5.0",
            "_model_name": "HTMLModel",
            "_view_count": null,
            "_view_module": "@jupyter-widgets/controls",
            "_view_module_version": "1.5.0",
            "_view_name": "HTMLView",
            "description": "",
            "description_tooltip": null,
            "layout": "IPY_MODEL_32792ea893a140dab321565df126e461",
            "placeholder": "​",
            "style": "IPY_MODEL_e9b04004efb944c6ad7d53763d426626",
            "value": "Downloading: 100%"
          }
        },
        "fc80e8542e34422b86874eee0b20b3f8": {
          "model_module": "@jupyter-widgets/controls",
          "model_module_version": "1.5.0",
          "model_name": "ProgressStyleModel",
          "state": {
            "_model_module": "@jupyter-widgets/controls",
            "_model_module_version": "1.5.0",
            "_model_name": "ProgressStyleModel",
            "_view_count": null,
            "_view_module": "@jupyter-widgets/base",
            "_view_module_version": "1.2.0",
            "_view_name": "StyleView",
            "bar_color": null,
            "description_width": ""
          }
        },
        "fd8fd5f045414ab199d3f37c9397ad54": {
          "model_module": "@jupyter-widgets/controls",
          "model_module_version": "1.5.0",
          "model_name": "HTMLModel",
          "state": {
            "_dom_classes": [],
            "_model_module": "@jupyter-widgets/controls",
            "_model_module_version": "1.5.0",
            "_model_name": "HTMLModel",
            "_view_count": null,
            "_view_module": "@jupyter-widgets/controls",
            "_view_module_version": "1.5.0",
            "_view_name": "HTMLView",
            "description": "",
            "description_tooltip": null,
            "layout": "IPY_MODEL_a6df649cf752475c9540bf1ba2fc7199",
            "placeholder": "​",
            "style": "IPY_MODEL_e491634079f44e65a6edb5d799a2b74e",
            "value": "Downloading: 100%"
          }
        },
        "fd98d75dc2424c2faecfb4b5f6a94aa2": {
          "model_module": "@jupyter-widgets/controls",
          "model_module_version": "1.5.0",
          "model_name": "FloatProgressModel",
          "state": {
            "_dom_classes": [],
            "_model_module": "@jupyter-widgets/controls",
            "_model_module_version": "1.5.0",
            "_model_name": "FloatProgressModel",
            "_view_count": null,
            "_view_module": "@jupyter-widgets/controls",
            "_view_module_version": "1.5.0",
            "_view_name": "ProgressView",
            "bar_style": "success",
            "description": "",
            "description_tooltip": null,
            "layout": "IPY_MODEL_d137a72df0a849a8913fd62924c1848a",
            "max": 318,
            "min": 0,
            "orientation": "horizontal",
            "style": "IPY_MODEL_105cf78a882a4cc3bbdaaa2b80217110",
            "value": 318
          }
        },
        "fe9e7728c09946c5908d7502c3f77432": {
          "model_module": "@jupyter-widgets/controls",
          "model_module_version": "1.5.0",
          "model_name": "HBoxModel",
          "state": {
            "_dom_classes": [],
            "_model_module": "@jupyter-widgets/controls",
            "_model_module_version": "1.5.0",
            "_model_name": "HBoxModel",
            "_view_count": null,
            "_view_module": "@jupyter-widgets/controls",
            "_view_module_version": "1.5.0",
            "_view_name": "HBoxView",
            "box_style": "",
            "children": [
              "IPY_MODEL_b67a926cc4904c2f84efd509098e103c",
              "IPY_MODEL_fd98d75dc2424c2faecfb4b5f6a94aa2",
              "IPY_MODEL_187e2d909bfc4a41b2502b964a03fcad"
            ],
            "layout": "IPY_MODEL_bf18adc120174a8bb6cd6f09d853911f"
          }
        },
        "feaf363bb8c548fcae1cd13fd1074581": {
          "model_module": "@jupyter-widgets/base",
          "model_module_version": "1.2.0",
          "model_name": "LayoutModel",
          "state": {
            "_model_module": "@jupyter-widgets/base",
            "_model_module_version": "1.2.0",
            "_model_name": "LayoutModel",
            "_view_count": null,
            "_view_module": "@jupyter-widgets/base",
            "_view_module_version": "1.2.0",
            "_view_name": "LayoutView",
            "align_content": null,
            "align_items": null,
            "align_self": null,
            "border": null,
            "bottom": null,
            "display": null,
            "flex": null,
            "flex_flow": null,
            "grid_area": null,
            "grid_auto_columns": null,
            "grid_auto_flow": null,
            "grid_auto_rows": null,
            "grid_column": null,
            "grid_gap": null,
            "grid_row": null,
            "grid_template_areas": null,
            "grid_template_columns": null,
            "grid_template_rows": null,
            "height": null,
            "justify_content": null,
            "justify_items": null,
            "left": null,
            "margin": null,
            "max_height": null,
            "max_width": null,
            "min_height": null,
            "min_width": null,
            "object_fit": null,
            "object_position": null,
            "order": null,
            "overflow": null,
            "overflow_x": null,
            "overflow_y": null,
            "padding": null,
            "right": null,
            "top": null,
            "visibility": null,
            "width": null
          }
        }
      }
    }
  },
  "nbformat": 4,
  "nbformat_minor": 0
}
