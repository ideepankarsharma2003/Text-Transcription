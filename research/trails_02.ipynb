{
 "cells": [
  {
   "cell_type": "code",
   "execution_count": 1,
   "metadata": {},
   "outputs": [],
   "source": [
    "# from transformers import pipeline\n",
    "\n",
    "# p = pipeline(\"automatic-speech-recognition\", model=\"openai/whisper-base.en\")"
   ]
  },
  {
   "cell_type": "code",
   "execution_count": 2,
   "metadata": {},
   "outputs": [
    {
     "name": "stderr",
     "output_type": "stream",
     "text": [
      "/home/ubuntu/speech_transcribtion/venv/lib/python3.10/site-packages/tqdm/auto.py:21: TqdmWarning: IProgress not found. Please update jupyter and ipywidgets. See https://ipywidgets.readthedocs.io/en/stable/user_install.html\n",
      "  from .autonotebook import tqdm as notebook_tqdm\n",
      "Special tokens have been added in the vocabulary, make sure the associated word embeddings are fine-tuned or trained.\n"
     ]
    }
   ],
   "source": [
    "import gradio as gr\n",
    "from transformers import pipeline\n",
    "import numpy as np\n",
    "\n",
    "# transcriber = pipeline(\"automatic-speech-recognition\", model=\"openai/whisper-base.en\")\n",
    "transcriber = pipeline(\"automatic-speech-recognition\", model=\"openai/whisper-large-v3\", device=\"cuda\")\n"
   ]
  },
  {
   "cell_type": "code",
   "execution_count": 3,
   "metadata": {},
   "outputs": [
    {
     "name": "stdout",
     "output_type": "stream",
     "text": [
      "Running on local URL:  http://127.0.0.1:7861\n"
     ]
    },
    {
     "name": "stdout",
     "output_type": "stream",
     "text": [
      "Running on public URL: https://a4e4e4ee13373b0343.gradio.live\n",
      "\n",
      "This share link expires in 72 hours. For free permanent hosting and GPU upgrades, run `gradio deploy` from Terminal to deploy to Spaces (https://huggingface.co/spaces)\n"
     ]
    },
    {
     "data": {
      "text/html": [
       "<div><iframe src=\"https://a4e4e4ee13373b0343.gradio.live\" width=\"100%\" height=\"500\" allow=\"autoplay; camera; microphone; clipboard-read; clipboard-write;\" frameborder=\"0\" allowfullscreen></iframe></div>"
      ],
      "text/plain": [
       "<IPython.core.display.HTML object>"
      ]
     },
     "metadata": {},
     "output_type": "display_data"
    },
    {
     "data": {
      "text/plain": []
     },
     "execution_count": 3,
     "metadata": {},
     "output_type": "execute_result"
    }
   ],
   "source": [
    "\n",
    "def transcribe(audio):\n",
    "    sr, y = audio\n",
    "    y = y.astype(np.float32)\n",
    "    y /= np.max(np.abs(y))\n",
    "\n",
    "    return transcriber({\"sampling_rate\": sr, \"raw\": y})[\"text\"]\n",
    "\n",
    "\n",
    "demo = gr.Interface(\n",
    "    transcribe,\n",
    "    gr.Audio(sources=[\"microphone\"]),\n",
    "    \"text\",\n",
    ")\n",
    "\n",
    "demo.launch(share=True)\n"
   ]
  },
  {
   "cell_type": "code",
   "execution_count": 4,
   "metadata": {},
   "outputs": [
    {
     "data": {
      "text/plain": [
       "<transformers.pipelines.automatic_speech_recognition.AutomaticSpeechRecognitionPipeline at 0x7f1394b38af0>"
      ]
     },
     "execution_count": 4,
     "metadata": {},
     "output_type": "execute_result"
    }
   ],
   "source": [
    "transcriber"
   ]
  },
  {
   "cell_type": "code",
   "execution_count": 6,
   "metadata": {},
   "outputs": [
    {
     "data": {
      "text/plain": [
       "{'text': \" The people who do know their God will be strong and do exploits. And I, you know, I trust I'll get to my scripture here. But I tell you, I just made up my mind to hang loose and preach like the Holy Ghost wants me to preach on television. If you think I'm a little fanatical, you ought to get out here all the time. I'll tell you we got something to jump and dance about glory be to God you say well I tell you I never saw anybody jump up and down like you well look at it again hallelujah thank you Jesus hallelujah oh glory be to God well I wonder now if somebody's not saying I sure would be ashamed to be in that church well let me tell you something honey I don't use that word very often let me tell you something sweetheart if you am going to heaven you better learn to act like we're acting yes listen listen when we march through those gates of pearl when we go down those golden streets when we see the angels of God when we begin to shout mother, daddy, brother, sister I tell you we're going to dance and we're going to shout glory to the God oh hallelujah we got something to shout about I said we got something to shout about I said we got something to shout about we're on our way to heaven and we got heaven in our heart Glory be to God. Thank you, Jesus. Oh, glory be to God. You know what brought this verse on? You know what brought this verse on? Talking about a good God. I mean, you may have an old denominationalized God that you think joins your denomination and is dead as your denomination is, but I want you to know our God is alive and He's a good God and He loves you. Hallelujah. Amen Amen Oh when I think about When we could all be on our way to hell We could all be lost and undone without God But God in his mercy We didn't seek him he sought us God in his mercy He began to pull upon our heart strings By the Holy Ghost He began to say come out Come out Come out of darkness come out, come out of darkness oh when I think of his mercy when I think of how good he is Jesus said you have not chosen me but I have chosen you and ordained you to go and bring forth truth when I think about how good God is I know what the psalmist said the Lord is good and his mercy endures forever and forever and forever and forever and forever and forever and forever thank you jesus thank you jesus when i think about when i think about how he called me out of darkness i didn't seek him he sought me oh i'll dance for him i'll shout for him i'll jump for him I'll do anything for him. I'm a child of the living God. I belong to Jesus. I'm not ashamed in this town and across this nation and around the world to know that God is a good God. Yes. Yes. We go on record. Our God is a good God. Thank you, Jesus. Thank you Jesus Thank you Jesus Thank you Jesus Thank you Jesus Thank you Jesus Thank you Jesus Oh Jesus we love you Father Jesus has made you known to us He let us know by his coming that you're a good God Lord be the God\"}"
      ]
     },
     "execution_count": 6,
     "metadata": {},
     "output_type": "execute_result"
    }
   ],
   "source": [
    "transcriber(\"demo-1.mp3\")"
   ]
  },
  {
   "cell_type": "code",
   "execution_count": null,
   "metadata": {},
   "outputs": [],
   "source": []
  }
 ],
 "metadata": {
  "kernelspec": {
   "display_name": "venv",
   "language": "python",
   "name": "python3"
  },
  "language_info": {
   "codemirror_mode": {
    "name": "ipython",
    "version": 3
   },
   "file_extension": ".py",
   "mimetype": "text/x-python",
   "name": "python",
   "nbconvert_exporter": "python",
   "pygments_lexer": "ipython3",
   "version": "3.10.12"
  }
 },
 "nbformat": 4,
 "nbformat_minor": 2
}
